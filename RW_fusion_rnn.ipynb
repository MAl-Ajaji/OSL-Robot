{
 "cells": [
  {
   "cell_type": "code",
   "execution_count": 16,
   "metadata": {},
   "outputs": [],
   "source": [
    "import pandas as pd\n",
    "import numpy as np\n",
    "import matplotlib.pyplot as plt\n",
    "import tensorflow as tf\n",
    "import os\n",
    "from collections import Counter\n",
    "import pickle"
   ]
  },
  {
   "cell_type": "code",
   "execution_count": 17,
   "metadata": {},
   "outputs": [],
   "source": [
    "RW_dataset_path = \"C:\\\\Users\\\\hp-pc\\\\Desktop\\\\GRP\\\\real_data\\\\fusion\\\\fusion_total\\\\fusion_total.csv\""
   ]
  },
  {
   "cell_type": "code",
   "execution_count": 18,
   "metadata": {},
   "outputs": [],
   "source": [
    "df_fusion_RW = pd.read_csv(RW_dataset_path, index_col=False)"
   ]
  },
  {
   "cell_type": "code",
   "execution_count": 19,
   "metadata": {},
   "outputs": [],
   "source": [
    "df_fusion_RW = df_fusion_RW.dropna()"
   ]
  },
  {
   "cell_type": "code",
   "execution_count": 20,
   "metadata": {},
   "outputs": [
    {
     "data": {
      "text/plain": [
       "0       -46.419603\n",
       "1       -47.866942\n",
       "2       -48.417687\n",
       "3       -41.905376\n",
       "4       -28.993614\n",
       "           ...    \n",
       "28464    -6.581422\n",
       "28465    -6.184947\n",
       "28466    -5.723173\n",
       "28467    -5.343430\n",
       "28468    -5.063220\n",
       "Name: yaw_error, Length: 28469, dtype: float64"
      ]
     },
     "execution_count": 20,
     "metadata": {},
     "output_type": "execute_result"
    }
   ],
   "source": [
    "df_fusion_RW.pop('time')\n",
    "df_fusion_RW.pop('posx')\n",
    "df_fusion_RW.pop('posy')\n",
    "df_fusion_RW.pop('yaw')\n",
    "df_fusion_RW.pop('yaw_error')"
   ]
  },
  {
   "cell_type": "code",
   "execution_count": 21,
   "metadata": {},
   "outputs": [],
   "source": [
    "def change_yaw(x):\n",
    "    if x < 0:\n",
    "        x += 360\n",
    "    return x\n",
    "\n",
    "df_fusion_RW['yaw_c'] = df_fusion_RW['yaw_c'].apply(change_yaw)\n",
    "yaw_c_RW = df_fusion_RW.pop(\"yaw_c\")\n",
    "yaw_c_RW = yaw_c_RW * np.pi / 180 # deg to rad\n",
    "\n",
    "df_fusion_RW['Cx'] = np.cos(yaw_c_RW)\n",
    "df_fusion_RW['Cy'] = np.sin(yaw_c_RW)"
   ]
  },
  {
   "cell_type": "code",
   "execution_count": 22,
   "metadata": {},
   "outputs": [],
   "source": [
    "def change_winddir(x):\n",
    "    if x < 0:\n",
    "        x += 360\n",
    "    return x\n",
    "\n",
    "df_fusion_RW['winddir'] = df_fusion_RW['winddir'].apply(change_winddir)\n",
    "winddir = df_fusion_RW.pop(\"winddir\")\n",
    "winddir = winddir * np.pi / 180\n",
    "\n",
    "df_fusion_RW['windvx'] = df_fusion_RW['windv']*np.cos(winddir)\n",
    "df_fusion_RW['windvy'] = df_fusion_RW['windv']*np.sin(winddir)"
   ]
  },
  {
   "cell_type": "code",
   "execution_count": 23,
   "metadata": {},
   "outputs": [],
   "source": [
    "winddir = df_fusion_RW.pop(\"windv\")"
   ]
  },
  {
   "cell_type": "code",
   "execution_count": 24,
   "metadata": {},
   "outputs": [],
   "source": [
    "df_fusion_RW = df_fusion_RW[['windvx', 'windvy', 'con', 'detection', 'Cx', 'Cy']]"
   ]
  },
  {
   "cell_type": "code",
   "execution_count": 25,
   "metadata": {},
   "outputs": [],
   "source": [
    "mean = df_fusion_RW.mean()\n",
    "std = df_fusion_RW.std()\n",
    "df_fusion_RW = (df_fusion_RW - mean) / std"
   ]
  },
  {
   "cell_type": "code",
   "execution_count": 26,
   "metadata": {},
   "outputs": [],
   "source": [
    "train_df = df_fusion_RW[0:int(len(df_fusion_RW) * 0.8)]\n",
    "val_df = df_fusion_RW[int(len(df_fusion_RW) * 0.8):int(len(df_fusion_RW) * 0.9)]\n",
    "test_df = df_fusion_RW[int(len(df_fusion_RW) * 0.9):]"
   ]
  },
  {
   "cell_type": "code",
   "execution_count": 27,
   "metadata": {},
   "outputs": [],
   "source": [
    "# define the window_generator function\n",
    "class WindowGenerator():\n",
    "    def __init__(self, input_width, label_width, shift,\n",
    "                 train_df, val_df, test_df,\n",
    "                 label_columns=None,\n",
    "                 input_columns=None):\n",
    "        # Store the raw data.\n",
    "        self.train_df = train_df\n",
    "        self.val_df = val_df\n",
    "        self.test_df = test_df\n",
    "\n",
    "        # Work out the label column indices.\n",
    "        self.label_columns = label_columns\n",
    "        self.input_columns = input_columns\n",
    "        if label_columns is not None:\n",
    "            self.label_columns_indices = {name: i for i, name in\n",
    "                                          enumerate(label_columns)}\n",
    "        self.column_indices = {name: i for i, name in\n",
    "                               enumerate(train_df.columns)}\n",
    "\n",
    "        # Work out the window parameters.\n",
    "        self.input_width = input_width\n",
    "        self.label_width = label_width\n",
    "        self.shift = shift\n",
    "\n",
    "        self.total_window_size = input_width + shift\n",
    "\n",
    "        self.input_slice = slice(0, input_width)\n",
    "        self.input_indices = np.arange(self.total_window_size)[self.input_slice]\n",
    "\n",
    "        self.label_start = self.total_window_size - self.label_width\n",
    "        self.labels_slice = slice(self.label_start, None)\n",
    "        self.label_indices = np.arange(self.total_window_size)[self.labels_slice]\n",
    "\n",
    "    def __repr__(self):\n",
    "        return '\\n'.join([\n",
    "            f'Total window size: {self.total_window_size}',\n",
    "            f'Input indices: {self.input_indices}',\n",
    "            f'Input column names: {self.input_columns}',\n",
    "            f'Label indices: {self.label_indices}',\n",
    "            f'Label column name(s): {self.label_columns}'])\n",
    "\n",
    "    def split_window(self, features):\n",
    "        inputs = features[:, self.input_slice, :]\n",
    "        labels = features[:, self.labels_slice, :]\n",
    "        if self.label_columns is not None:\n",
    "            labels = tf.stack(\n",
    "                [labels[:, :, self.column_indices[name]] for name in self.label_columns],\n",
    "                axis=-1)\n",
    "        if self.input_columns is not None:\n",
    "            inputs = tf.stack(\n",
    "                [inputs[:, :, self.column_indices[name]] for name in self.input_columns],\n",
    "                axis=-1)\n",
    "\n",
    "        # Slicing doesn't preserve static shape information, so set the shapes\n",
    "        # manually. This way the `tf.data.Datasets` are easier to inspect.\n",
    "        inputs.set_shape([None, self.input_width, None])\n",
    "        labels.set_shape([None, self.label_width, None])\n",
    "\n",
    "        return inputs, labels\n",
    "\n",
    "    def make_dataset(self, data):\n",
    "        data = np.array(data, dtype=np.float32)\n",
    "        ds = tf.keras.preprocessing.timeseries_dataset_from_array(\n",
    "            data=data,\n",
    "            targets=None,\n",
    "            sequence_length=self.total_window_size,\n",
    "            sequence_stride=1,\n",
    "            shuffle=True,\n",
    "            batch_size=16, )\n",
    "\n",
    "        ds = ds.map(self.split_window)\n",
    "\n",
    "        return ds\n",
    "    \n",
    "    # convert DataFrame into Dataset\n",
    "    @property\n",
    "    def train(self):\n",
    "        return self.make_dataset(self.train_df)\n",
    "\n",
    "    @property\n",
    "    def val(self):\n",
    "        return self.make_dataset(self.val_df)\n",
    "\n",
    "    @property\n",
    "    def test(self):\n",
    "        return self.make_dataset(self.test_df)\n",
    "\n",
    "    @property\n",
    "    # fetch an example batch for plotting\n",
    "    def example(self):\n",
    "        # by default, call example function returns None\n",
    "        result = getattr(self, '_example', None)\n",
    "        if result is None:\n",
    "            # no example batch was found, so get one from the '.train' dataset\n",
    "            # iter: creates an iterator object\n",
    "            result = next(iter(self.train))\n",
    "            # and cache it for the next time\n",
    "            self._example = result\n",
    "\n",
    "        return result\n",
    "\n",
    "    def plot(self, model=None, plot_col='Yaw_e', max_subplots=3):\n",
    "        inputs, labels = self.example\n",
    "        plt.figure(figsize=(12, 8))\n",
    "        # find the index of the column that the user wants to plot\n",
    "        plot_col_index = self.column_indices[plot_col]\n",
    "        # only plots maximal 3 batches of data\n",
    "        max_n = min(max_subplots, len(inputs))\n",
    "        for n in range(max_n):\n",
    "            plt.subplot(3, 1, n + 1)\n",
    "            plt.ylabel(f'{plot_col}[normed]')\n",
    "            plt.plot(self.input_indices, inputs[n, :, plot_col_index],\n",
    "                     label='Inputs', marker='.', zorder=-10)\n",
    "\n",
    "            if self.label_columns:\n",
    "                # get: method returns the value of the item (index) with the specified key (name)\n",
    "                # get(keyname, value=None)\n",
    "                label_col_index = self.label_columns_indices.get(plot_col, None)\n",
    "            else:\n",
    "                label_col_index = plot_col_index\n",
    "\n",
    "            if label_col_index is None:\n",
    "                # with the continue statement, we can stop the current iteration of the for loop\n",
    "                # and continue with the next\n",
    "                continue\n",
    "\n",
    "            plt.scatter(self.label_indices, labels[n, :, label_col_index], edgecolors='k',\n",
    "                        label='Labels', c='#2ca02c', s=64)\n",
    "            if model is not None:\n",
    "                predictions = model(inputs)\n",
    "                plt.scatter(self.label_indices, predictions[n, :, label_col_index],\n",
    "                            marker='X', edgecolors='k', label='Predictions',\n",
    "                            c='#ff7f0e', s=64)\n",
    "            if n == 0:\n",
    "                plt.legend()\n",
    "\n",
    "        plt.xlabel('Time[s]')\n",
    "        plt.show()\n"
   ]
  },
  {
   "cell_type": "code",
   "execution_count": 28,
   "metadata": {},
   "outputs": [],
   "source": [
    "MAX_EPOCHS = 20\n",
    "\n",
    "def compile_and_fit(model, window, patience=2):\n",
    "    early_stopping = tf.keras.callbacks.EarlyStopping(monitor='val_loss',\n",
    "                                                      patience=patience,\n",
    "                                                      mode='min')\n",
    "\n",
    "    model.compile(loss=tf.losses.MeanSquaredError(),\n",
    "                  optimizer=tf.optimizers.Adam(),\n",
    "                  metrics=[tf.metrics.MeanAbsoluteError()])\n",
    "\n",
    "    history = model.fit(window.train, epochs=MAX_EPOCHS,\n",
    "                        validation_data=window.val,\n",
    "                        callbacks=[early_stopping])\n",
    "    return history\n"
   ]
  },
  {
   "cell_type": "code",
   "execution_count": 29,
   "metadata": {},
   "outputs": [],
   "source": [
    "columns = df_fusion_RW.columns\n",
    "label_columns = ['Cx', 'Cy']\n",
    "input_columns = list((Counter(columns) - Counter(label_columns)).elements())\n",
    "num_inputs = len(input_columns)"
   ]
  },
  {
   "cell_type": "code",
   "execution_count": 30,
   "metadata": {},
   "outputs": [],
   "source": [
    "filter_size = 64\n",
    "lstm_model = tf.keras.models.Sequential([\n",
    "        # Shape [batch, time, features] => [batch, time, lstm_units]\n",
    "        tf.keras.layers.LSTM(256, return_sequences=True),\n",
    "        tf.keras.layers.LSTM(256, return_sequences=True),\n",
    "        # tf.keras.layers.LSTM(64, return_sequences=True),\n",
    "        # Shape => [batch, time, features]\n",
    "        tf.keras.layers.Dense(units=filter_size, activation='relu'),\n",
    "        tf.keras.layers.Dense(units=filter_size, activation='relu'),\n",
    "        tf.keras.layers.Dense(units=2)\n",
    "    ])"
   ]
  },
  {
   "cell_type": "code",
   "execution_count": 31,
   "metadata": {},
   "outputs": [],
   "source": [
    "CONV_WIDTH = 6\n",
    "\n",
    "lstm_window = WindowGenerator(\n",
    "    input_width=CONV_WIDTH,\n",
    "    label_width=CONV_WIDTH,\n",
    "    shift=0,\n",
    "    train_df=train_df,\n",
    "    test_df=test_df,\n",
    "    val_df=val_df,\n",
    "    label_columns=label_columns,\n",
    "    input_columns=input_columns\n",
    ")"
   ]
  },
  {
   "cell_type": "code",
   "execution_count": 32,
   "metadata": {},
   "outputs": [
    {
     "name": "stdout",
     "output_type": "stream",
     "text": [
      "Epoch 1/20\n",
      "1424/1424 [==============================] - 42s 27ms/step - loss: 0.6051 - mean_absolute_error: 0.5646 - val_loss: 0.3291 - val_mean_absolute_error: 0.4413\n",
      "Epoch 2/20\n",
      "1424/1424 [==============================] - 40s 28ms/step - loss: 0.5600 - mean_absolute_error: 0.5292 - val_loss: 0.3343 - val_mean_absolute_error: 0.4358\n",
      "Epoch 3/20\n",
      "1424/1424 [==============================] - 42s 30ms/step - loss: 0.5442 - mean_absolute_error: 0.5167 - val_loss: 0.3597 - val_mean_absolute_error: 0.4518\n",
      "178/178 [==============================] - 1s 7ms/step - loss: 0.4114 - mean_absolute_error: 0.4911\n",
      "[0.411382794380188, 0.4911445081233978] 0.9025273025035858\n"
     ]
    }
   ],
   "source": [
    "history = compile_and_fit(lstm_model, lstm_window)\n",
    "\n",
    "val_performance = lstm_model.evaluate(lstm_window.test)\n",
    "print(val_performance, sum(val_performance))"
   ]
  },
  {
   "cell_type": "code",
   "execution_count": 33,
   "metadata": {},
   "outputs": [],
   "source": [
    "acc = history.history['mean_absolute_error']\n",
    "val_acc = history.history['val_mean_absolute_error']\n",
    "\n",
    "loss = history.history['loss']\n",
    "val_loss = history.history['val_loss']"
   ]
  },
  {
   "cell_type": "code",
   "execution_count": 35,
   "metadata": {},
   "outputs": [
    {
     "data": {
      "image/png": "[encoded data removed]",
      "text/plain": [
       "<Figure size 576x576 with 2 Axes>"
      ]
     },
     "metadata": {
      "needs_background": "light"
     },
     "output_type": "display_data"
    }
   ],
   "source": [
    "plt.figure(figsize=(8, 8))\n",
    "plt.subplot(2, 1, 1)\n",
    "plt.plot(acc, label='Training')\n",
    "plt.plot(val_acc, label='Validation')\n",
    "plt.legend(loc='upper right')\n",
    "plt.ylabel('Mean Absolute Error')\n",
    "plt.ylim([min(plt.ylim()),1])\n",
    "plt.title('Training and Validation metrics')\n",
    "\n",
    "plt.subplot(2, 1, 2)\n",
    "plt.plot(loss, label='Training Loss')\n",
    "plt.plot(val_loss, label='Validation Loss')\n",
    "plt.legend(loc='upper right')\n",
    "plt.ylabel('Mean Squared Error')\n",
    "plt.ylim([0,1.0])\n",
    "plt.title('Training and Validation Loss')\n",
    "plt.xlabel('epoch')\n",
    "plt.savefig(\"RW_fusion_rnn.jpg\")\n",
    "plt.show()"
   ]
  },
  {
   "cell_type": "code",
   "execution_count": null,
   "metadata": {},
   "outputs": [],
   "source": []
  }
 ],
 "metadata": {
  "kernelspec": {
   "display_name": "Python 3",
   "language": "python",
   "name": "python3"
  },
  "language_info": {
   "codemirror_mode": {
    "name": "ipython",
    "version": 3
   },
   "file_extension": ".py",
   "mimetype": "text/x-python",
   "name": "python",
   "nbconvert_exporter": "python",
   "pygments_lexer": "ipython3",
   "version": "3.8.5"
  }
 },
 "nbformat": 4,
 "nbformat_minor": 4
}
