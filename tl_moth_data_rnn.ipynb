{
 "cells": [
  {
   "cell_type": "code",
   "execution_count": 33,
   "metadata": {},
   "outputs": [],
   "source": [
    "import keras\n",
    "import pandas as pd\n",
    "import numpy as np\n",
    "import matplotlib.pyplot as plt\n",
    "import tensorflow as tf\n",
    "import os\n",
    "from collections import Counter\n",
    "import pickle"
   ]
  },
  {
   "cell_type": "code",
   "execution_count": 36,
   "metadata": {},
   "outputs": [
    {
     "name": "stdout",
     "output_type": "stream",
     "text": [
      "weights: 2\n",
      "trainable_weights: 2\n",
      "non_trainable_weights: 0\n",
      "weights: 2\n",
      "trainable_weights: 2\n",
      "non_trainable_weights: 0\n"
     ]
    }
   ],
   "source": [
    "layer1 = keras.layers.Dense(30)\n",
    "layer2 = keras.layers.Dense(30)\n",
    "layer1.build((None, 30))  # Create the weights\n",
    "layer2.build((None, 30))  # Create the weights\n",
    "print(\"weights:\", len(layer1.weights))\n",
    "print(\"trainable_weights:\", len(layer1.trainable_weights))\n",
    "print(\"non_trainable_weights:\", len(layer1.non_trainable_weights))\n",
    "\n",
    "print(\"weights:\", len(layer2.weights))\n",
    "print(\"trainable_weights:\", len(layer2.trainable_weights))\n",
    "print(\"non_trainable_weights:\", len(layer2.non_trainable_weights))"
   ]
  },
  {
   "cell_type": "code",
   "execution_count": 5,
   "metadata": {},
   "outputs": [],
   "source": [
    "import pandas as pd\n",
    "import numpy as np\n",
    "import matplotlib.pyplot as plt\n",
    "import tensorflow as tf\n",
    "import os\n",
    "from collections import Counter\n",
    "import pickle"
   ]
  },
  {
   "cell_type": "code",
   "execution_count": 6,
   "metadata": {},
   "outputs": [],
   "source": [
    "dataset_path1 = \"C:\\\\Users\\\\hp-pc\\\\Desktop\\\\GRP\\\\sim_data\\\\moth\\\\moth_total\\\\moth_total.csv\""
   ]
  },
  {
   "cell_type": "code",
   "execution_count": 7,
   "metadata": {},
   "outputs": [],
   "source": [
    "df_moth = pd.read_csv(dataset_path1, index_col=False)"
   ]
  },
  {
   "cell_type": "code",
   "execution_count": 8,
   "metadata": {},
   "outputs": [
    {
     "data": {
      "text/html": [
       "<div>\n",
       "<style scoped>\n",
       "    .dataframe tbody tr th:only-of-type {\n",
       "        vertical-align: middle;\n",
       "    }\n",
       "\n",
       "    .dataframe tbody tr th {\n",
       "        vertical-align: top;\n",
       "    }\n",
       "\n",
       "    .dataframe thead th {\n",
       "        text-align: right;\n",
       "    }\n",
       "</style>\n",
       "<table border=\"1\" class=\"dataframe\">\n",
       "  <thead>\n",
       "    <tr style=\"text-align: right;\">\n",
       "      <th></th>\n",
       "      <th>time</th>\n",
       "      <th>windvx</th>\n",
       "      <th>windvy</th>\n",
       "      <th>con</th>\n",
       "      <th>detection</th>\n",
       "      <th>posx</th>\n",
       "      <th>posy</th>\n",
       "      <th>yaw</th>\n",
       "      <th>v</th>\n",
       "      <th>yaw_c</th>\n",
       "      <th>behavior</th>\n",
       "      <th>declare</th>\n",
       "      <th>time_out</th>\n",
       "      <th>termination</th>\n",
       "    </tr>\n",
       "  </thead>\n",
       "  <tbody>\n",
       "    <tr>\n",
       "      <th>0</th>\n",
       "      <td>0</td>\n",
       "      <td>1.06243</td>\n",
       "      <td>-0.000094</td>\n",
       "      <td>0.095689</td>\n",
       "      <td>1</td>\n",
       "      <td>82.9380</td>\n",
       "      <td>-2.69365</td>\n",
       "      <td>-111.559</td>\n",
       "      <td>1.000280</td>\n",
       "      <td>-180.0050</td>\n",
       "      <td>1</td>\n",
       "      <td>0</td>\n",
       "      <td>0</td>\n",
       "      <td>0</td>\n",
       "    </tr>\n",
       "    <tr>\n",
       "      <th>1</th>\n",
       "      <td>1</td>\n",
       "      <td>1.06628</td>\n",
       "      <td>-0.000175</td>\n",
       "      <td>0.122268</td>\n",
       "      <td>1</td>\n",
       "      <td>82.4698</td>\n",
       "      <td>-3.57635</td>\n",
       "      <td>-134.588</td>\n",
       "      <td>0.999740</td>\n",
       "      <td>-180.0090</td>\n",
       "      <td>1</td>\n",
       "      <td>0</td>\n",
       "      <td>0</td>\n",
       "      <td>0</td>\n",
       "    </tr>\n",
       "    <tr>\n",
       "      <th>2</th>\n",
       "      <td>2</td>\n",
       "      <td>1.06973</td>\n",
       "      <td>-0.000267</td>\n",
       "      <td>0.123117</td>\n",
       "      <td>1</td>\n",
       "      <td>81.7358</td>\n",
       "      <td>-4.27575</td>\n",
       "      <td>-154.369</td>\n",
       "      <td>0.999860</td>\n",
       "      <td>-180.0140</td>\n",
       "      <td>1</td>\n",
       "      <td>0</td>\n",
       "      <td>0</td>\n",
       "      <td>0</td>\n",
       "    </tr>\n",
       "    <tr>\n",
       "      <th>3</th>\n",
       "      <td>3</td>\n",
       "      <td>1.07339</td>\n",
       "      <td>-0.000367</td>\n",
       "      <td>0.106525</td>\n",
       "      <td>1</td>\n",
       "      <td>80.8518</td>\n",
       "      <td>-4.75450</td>\n",
       "      <td>-162.096</td>\n",
       "      <td>0.999944</td>\n",
       "      <td>-180.0200</td>\n",
       "      <td>1</td>\n",
       "      <td>0</td>\n",
       "      <td>0</td>\n",
       "      <td>0</td>\n",
       "    </tr>\n",
       "    <tr>\n",
       "      <th>4</th>\n",
       "      <td>4</td>\n",
       "      <td>1.07784</td>\n",
       "      <td>-0.000486</td>\n",
       "      <td>0.118507</td>\n",
       "      <td>1</td>\n",
       "      <td>79.9105</td>\n",
       "      <td>-5.09579</td>\n",
       "      <td>-165.942</td>\n",
       "      <td>0.999946</td>\n",
       "      <td>-260.0260</td>\n",
       "      <td>2</td>\n",
       "      <td>0</td>\n",
       "      <td>0</td>\n",
       "      <td>0</td>\n",
       "    </tr>\n",
       "    <tr>\n",
       "      <th>...</th>\n",
       "      <td>...</td>\n",
       "      <td>...</td>\n",
       "      <td>...</td>\n",
       "      <td>...</td>\n",
       "      <td>...</td>\n",
       "      <td>...</td>\n",
       "      <td>...</td>\n",
       "      <td>...</td>\n",
       "      <td>...</td>\n",
       "      <td>...</td>\n",
       "      <td>...</td>\n",
       "      <td>...</td>\n",
       "      <td>...</td>\n",
       "      <td>...</td>\n",
       "    </tr>\n",
       "    <tr>\n",
       "      <th>362164</th>\n",
       "      <td>36</td>\n",
       "      <td>1.91449</td>\n",
       "      <td>0.064206</td>\n",
       "      <td>3.319730</td>\n",
       "      <td>1</td>\n",
       "      <td>31.9183</td>\n",
       "      <td>-13.72340</td>\n",
       "      <td>161.831</td>\n",
       "      <td>1.000250</td>\n",
       "      <td>261.9170</td>\n",
       "      <td>1</td>\n",
       "      <td>0</td>\n",
       "      <td>0</td>\n",
       "      <td>0</td>\n",
       "    </tr>\n",
       "    <tr>\n",
       "      <th>362165</th>\n",
       "      <td>37</td>\n",
       "      <td>1.91312</td>\n",
       "      <td>0.069797</td>\n",
       "      <td>2.583560</td>\n",
       "      <td>1</td>\n",
       "      <td>30.9352</td>\n",
       "      <td>-13.51610</td>\n",
       "      <td>-173.445</td>\n",
       "      <td>1.000580</td>\n",
       "      <td>-97.9122</td>\n",
       "      <td>2</td>\n",
       "      <td>0</td>\n",
       "      <td>0</td>\n",
       "      <td>0</td>\n",
       "    </tr>\n",
       "    <tr>\n",
       "      <th>362166</th>\n",
       "      <td>38</td>\n",
       "      <td>1.91149</td>\n",
       "      <td>0.074357</td>\n",
       "      <td>0.030929</td>\n",
       "      <td>1</td>\n",
       "      <td>29.9309</td>\n",
       "      <td>-13.62450</td>\n",
       "      <td>-156.950</td>\n",
       "      <td>1.000570</td>\n",
       "      <td>-177.7730</td>\n",
       "      <td>1</td>\n",
       "      <td>0</td>\n",
       "      <td>0</td>\n",
       "      <td>0</td>\n",
       "    </tr>\n",
       "    <tr>\n",
       "      <th>362167</th>\n",
       "      <td>39</td>\n",
       "      <td>1.90994</td>\n",
       "      <td>0.077429</td>\n",
       "      <td>0.464106</td>\n",
       "      <td>1</td>\n",
       "      <td>28.9915</td>\n",
       "      <td>-13.98410</td>\n",
       "      <td>-148.021</td>\n",
       "      <td>1.000380</td>\n",
       "      <td>-97.6792</td>\n",
       "      <td>2</td>\n",
       "      <td>0</td>\n",
       "      <td>0</td>\n",
       "      <td>0</td>\n",
       "    </tr>\n",
       "    <tr>\n",
       "      <th>362168</th>\n",
       "      <td>40</td>\n",
       "      <td>1.90891</td>\n",
       "      <td>0.078985</td>\n",
       "      <td>7.019100</td>\n",
       "      <td>1</td>\n",
       "      <td>28.0821</td>\n",
       "      <td>-14.40360</td>\n",
       "      <td>-165.096</td>\n",
       "      <td>0.999488</td>\n",
       "      <td>-257.6310</td>\n",
       "      <td>2</td>\n",
       "      <td>1</td>\n",
       "      <td>0</td>\n",
       "      <td>1</td>\n",
       "    </tr>\n",
       "  </tbody>\n",
       "</table>\n",
       "<p>362169 rows × 14 columns</p>\n",
       "</div>"
      ],
      "text/plain": [
       "        time   windvx    windvy       con  detection     posx      posy  \\\n",
       "0          0  1.06243 -0.000094  0.095689          1  82.9380  -2.69365   \n",
       "1          1  1.06628 -0.000175  0.122268          1  82.4698  -3.57635   \n",
       "2          2  1.06973 -0.000267  0.123117          1  81.7358  -4.27575   \n",
       "3          3  1.07339 -0.000367  0.106525          1  80.8518  -4.75450   \n",
       "4          4  1.07784 -0.000486  0.118507          1  79.9105  -5.09579   \n",
       "...      ...      ...       ...       ...        ...      ...       ...   \n",
       "362164    36  1.91449  0.064206  3.319730          1  31.9183 -13.72340   \n",
       "362165    37  1.91312  0.069797  2.583560          1  30.9352 -13.51610   \n",
       "362166    38  1.91149  0.074357  0.030929          1  29.9309 -13.62450   \n",
       "362167    39  1.90994  0.077429  0.464106          1  28.9915 -13.98410   \n",
       "362168    40  1.90891  0.078985  7.019100          1  28.0821 -14.40360   \n",
       "\n",
       "            yaw         v     yaw_c  behavior  declare  time_out  termination  \n",
       "0      -111.559  1.000280 -180.0050         1        0         0            0  \n",
       "1      -134.588  0.999740 -180.0090         1        0         0            0  \n",
       "2      -154.369  0.999860 -180.0140         1        0         0            0  \n",
       "3      -162.096  0.999944 -180.0200         1        0         0            0  \n",
       "4      -165.942  0.999946 -260.0260         2        0         0            0  \n",
       "...         ...       ...       ...       ...      ...       ...          ...  \n",
       "362164  161.831  1.000250  261.9170         1        0         0            0  \n",
       "362165 -173.445  1.000580  -97.9122         2        0         0            0  \n",
       "362166 -156.950  1.000570 -177.7730         1        0         0            0  \n",
       "362167 -148.021  1.000380  -97.6792         2        0         0            0  \n",
       "362168 -165.096  0.999488 -257.6310         2        1         0            1  \n",
       "\n",
       "[362169 rows x 14 columns]"
      ]
     },
     "execution_count": 8,
     "metadata": {},
     "output_type": "execute_result"
    }
   ],
   "source": [
    "df_moth"
   ]
  },
  {
   "cell_type": "code",
   "execution_count": 9,
   "metadata": {},
   "outputs": [
    {
     "data": {
      "text/plain": [
       "0         False\n",
       "1         False\n",
       "2         False\n",
       "3         False\n",
       "4         False\n",
       "          ...  \n",
       "362164    False\n",
       "362165    False\n",
       "362166    False\n",
       "362167    False\n",
       "362168    False\n",
       "Name: time_out, Length: 362169, dtype: bool"
      ]
     },
     "execution_count": 9,
     "metadata": {},
     "output_type": "execute_result"
    }
   ],
   "source": [
    "df_moth.time_out==1"
   ]
  },
  {
   "cell_type": "code",
   "execution_count": 10,
   "metadata": {},
   "outputs": [],
   "source": [
    "num_trial = len(df_moth[df_moth['termination'] == 1])\n",
    "num_D_trial = len(df_moth[df_moth['declare'] == 1])\n",
    "num_TO_trial = len(df_moth[df_moth['time_out'] == 1])"
   ]
  },
  {
   "cell_type": "code",
   "execution_count": 11,
   "metadata": {},
   "outputs": [],
   "source": [
    "trial_start = []\n",
    "trial_D_start = []"
   ]
  },
  {
   "cell_type": "code",
   "execution_count": 12,
   "metadata": {},
   "outputs": [],
   "source": [
    "for i in range(df_moth.shape[0]):\n",
    "    if df_moth['time'].iloc[i] == 0:\n",
    "        trial_start.append(i)\n",
    "    if df_moth['termination'].iloc[i] == 1:\n",
    "        trial_D_start.append(i)"
   ]
  },
  {
   "cell_type": "code",
   "execution_count": 13,
   "metadata": {},
   "outputs": [
    {
     "data": {
      "text/html": [
       "<div>\n",
       "<style scoped>\n",
       "    .dataframe tbody tr th:only-of-type {\n",
       "        vertical-align: middle;\n",
       "    }\n",
       "\n",
       "    .dataframe tbody tr th {\n",
       "        vertical-align: top;\n",
       "    }\n",
       "\n",
       "    .dataframe thead th {\n",
       "        text-align: right;\n",
       "    }\n",
       "</style>\n",
       "<table border=\"1\" class=\"dataframe\">\n",
       "  <thead>\n",
       "    <tr style=\"text-align: right;\">\n",
       "      <th></th>\n",
       "      <th>time</th>\n",
       "      <th>windvx</th>\n",
       "      <th>windvy</th>\n",
       "      <th>con</th>\n",
       "      <th>detection</th>\n",
       "      <th>posx</th>\n",
       "      <th>posy</th>\n",
       "      <th>yaw</th>\n",
       "      <th>v</th>\n",
       "      <th>yaw_c</th>\n",
       "      <th>behavior</th>\n",
       "      <th>declare</th>\n",
       "      <th>time_out</th>\n",
       "      <th>termination</th>\n",
       "    </tr>\n",
       "  </thead>\n",
       "  <tbody>\n",
       "    <tr>\n",
       "      <th>0</th>\n",
       "      <td>0</td>\n",
       "      <td>1.06243</td>\n",
       "      <td>-0.000094</td>\n",
       "      <td>0.095689</td>\n",
       "      <td>1</td>\n",
       "      <td>82.9380</td>\n",
       "      <td>-2.69365</td>\n",
       "      <td>-111.559</td>\n",
       "      <td>1.000280</td>\n",
       "      <td>-180.0050</td>\n",
       "      <td>1</td>\n",
       "      <td>0</td>\n",
       "      <td>0</td>\n",
       "      <td>0</td>\n",
       "    </tr>\n",
       "    <tr>\n",
       "      <th>1</th>\n",
       "      <td>1</td>\n",
       "      <td>1.06628</td>\n",
       "      <td>-0.000175</td>\n",
       "      <td>0.122268</td>\n",
       "      <td>1</td>\n",
       "      <td>82.4698</td>\n",
       "      <td>-3.57635</td>\n",
       "      <td>-134.588</td>\n",
       "      <td>0.999740</td>\n",
       "      <td>-180.0090</td>\n",
       "      <td>1</td>\n",
       "      <td>0</td>\n",
       "      <td>0</td>\n",
       "      <td>0</td>\n",
       "    </tr>\n",
       "    <tr>\n",
       "      <th>2</th>\n",
       "      <td>2</td>\n",
       "      <td>1.06973</td>\n",
       "      <td>-0.000267</td>\n",
       "      <td>0.123117</td>\n",
       "      <td>1</td>\n",
       "      <td>81.7358</td>\n",
       "      <td>-4.27575</td>\n",
       "      <td>-154.369</td>\n",
       "      <td>0.999860</td>\n",
       "      <td>-180.0140</td>\n",
       "      <td>1</td>\n",
       "      <td>0</td>\n",
       "      <td>0</td>\n",
       "      <td>0</td>\n",
       "    </tr>\n",
       "    <tr>\n",
       "      <th>3</th>\n",
       "      <td>3</td>\n",
       "      <td>1.07339</td>\n",
       "      <td>-0.000367</td>\n",
       "      <td>0.106525</td>\n",
       "      <td>1</td>\n",
       "      <td>80.8518</td>\n",
       "      <td>-4.75450</td>\n",
       "      <td>-162.096</td>\n",
       "      <td>0.999944</td>\n",
       "      <td>-180.0200</td>\n",
       "      <td>1</td>\n",
       "      <td>0</td>\n",
       "      <td>0</td>\n",
       "      <td>0</td>\n",
       "    </tr>\n",
       "    <tr>\n",
       "      <th>4</th>\n",
       "      <td>4</td>\n",
       "      <td>1.07784</td>\n",
       "      <td>-0.000486</td>\n",
       "      <td>0.118507</td>\n",
       "      <td>1</td>\n",
       "      <td>79.9105</td>\n",
       "      <td>-5.09579</td>\n",
       "      <td>-165.942</td>\n",
       "      <td>0.999946</td>\n",
       "      <td>-260.0260</td>\n",
       "      <td>2</td>\n",
       "      <td>0</td>\n",
       "      <td>0</td>\n",
       "      <td>0</td>\n",
       "    </tr>\n",
       "    <tr>\n",
       "      <th>...</th>\n",
       "      <td>...</td>\n",
       "      <td>...</td>\n",
       "      <td>...</td>\n",
       "      <td>...</td>\n",
       "      <td>...</td>\n",
       "      <td>...</td>\n",
       "      <td>...</td>\n",
       "      <td>...</td>\n",
       "      <td>...</td>\n",
       "      <td>...</td>\n",
       "      <td>...</td>\n",
       "      <td>...</td>\n",
       "      <td>...</td>\n",
       "      <td>...</td>\n",
       "    </tr>\n",
       "    <tr>\n",
       "      <th>362164</th>\n",
       "      <td>36</td>\n",
       "      <td>1.91449</td>\n",
       "      <td>0.064206</td>\n",
       "      <td>3.319730</td>\n",
       "      <td>1</td>\n",
       "      <td>31.9183</td>\n",
       "      <td>-13.72340</td>\n",
       "      <td>161.831</td>\n",
       "      <td>1.000250</td>\n",
       "      <td>261.9170</td>\n",
       "      <td>1</td>\n",
       "      <td>0</td>\n",
       "      <td>0</td>\n",
       "      <td>0</td>\n",
       "    </tr>\n",
       "    <tr>\n",
       "      <th>362165</th>\n",
       "      <td>37</td>\n",
       "      <td>1.91312</td>\n",
       "      <td>0.069797</td>\n",
       "      <td>2.583560</td>\n",
       "      <td>1</td>\n",
       "      <td>30.9352</td>\n",
       "      <td>-13.51610</td>\n",
       "      <td>-173.445</td>\n",
       "      <td>1.000580</td>\n",
       "      <td>-97.9122</td>\n",
       "      <td>2</td>\n",
       "      <td>0</td>\n",
       "      <td>0</td>\n",
       "      <td>0</td>\n",
       "    </tr>\n",
       "    <tr>\n",
       "      <th>362166</th>\n",
       "      <td>38</td>\n",
       "      <td>1.91149</td>\n",
       "      <td>0.074357</td>\n",
       "      <td>0.030929</td>\n",
       "      <td>1</td>\n",
       "      <td>29.9309</td>\n",
       "      <td>-13.62450</td>\n",
       "      <td>-156.950</td>\n",
       "      <td>1.000570</td>\n",
       "      <td>-177.7730</td>\n",
       "      <td>1</td>\n",
       "      <td>0</td>\n",
       "      <td>0</td>\n",
       "      <td>0</td>\n",
       "    </tr>\n",
       "    <tr>\n",
       "      <th>362167</th>\n",
       "      <td>39</td>\n",
       "      <td>1.90994</td>\n",
       "      <td>0.077429</td>\n",
       "      <td>0.464106</td>\n",
       "      <td>1</td>\n",
       "      <td>28.9915</td>\n",
       "      <td>-13.98410</td>\n",
       "      <td>-148.021</td>\n",
       "      <td>1.000380</td>\n",
       "      <td>-97.6792</td>\n",
       "      <td>2</td>\n",
       "      <td>0</td>\n",
       "      <td>0</td>\n",
       "      <td>0</td>\n",
       "    </tr>\n",
       "    <tr>\n",
       "      <th>362168</th>\n",
       "      <td>40</td>\n",
       "      <td>1.90891</td>\n",
       "      <td>0.078985</td>\n",
       "      <td>7.019100</td>\n",
       "      <td>1</td>\n",
       "      <td>28.0821</td>\n",
       "      <td>-14.40360</td>\n",
       "      <td>-165.096</td>\n",
       "      <td>0.999488</td>\n",
       "      <td>-257.6310</td>\n",
       "      <td>2</td>\n",
       "      <td>1</td>\n",
       "      <td>0</td>\n",
       "      <td>1</td>\n",
       "    </tr>\n",
       "  </tbody>\n",
       "</table>\n",
       "<p>362169 rows × 14 columns</p>\n",
       "</div>"
      ],
      "text/plain": [
       "        time   windvx    windvy       con  detection     posx      posy  \\\n",
       "0          0  1.06243 -0.000094  0.095689          1  82.9380  -2.69365   \n",
       "1          1  1.06628 -0.000175  0.122268          1  82.4698  -3.57635   \n",
       "2          2  1.06973 -0.000267  0.123117          1  81.7358  -4.27575   \n",
       "3          3  1.07339 -0.000367  0.106525          1  80.8518  -4.75450   \n",
       "4          4  1.07784 -0.000486  0.118507          1  79.9105  -5.09579   \n",
       "...      ...      ...       ...       ...        ...      ...       ...   \n",
       "362164    36  1.91449  0.064206  3.319730          1  31.9183 -13.72340   \n",
       "362165    37  1.91312  0.069797  2.583560          1  30.9352 -13.51610   \n",
       "362166    38  1.91149  0.074357  0.030929          1  29.9309 -13.62450   \n",
       "362167    39  1.90994  0.077429  0.464106          1  28.9915 -13.98410   \n",
       "362168    40  1.90891  0.078985  7.019100          1  28.0821 -14.40360   \n",
       "\n",
       "            yaw         v     yaw_c  behavior  declare  time_out  termination  \n",
       "0      -111.559  1.000280 -180.0050         1        0         0            0  \n",
       "1      -134.588  0.999740 -180.0090         1        0         0            0  \n",
       "2      -154.369  0.999860 -180.0140         1        0         0            0  \n",
       "3      -162.096  0.999944 -180.0200         1        0         0            0  \n",
       "4      -165.942  0.999946 -260.0260         2        0         0            0  \n",
       "...         ...       ...       ...       ...      ...       ...          ...  \n",
       "362164  161.831  1.000250  261.9170         1        0         0            0  \n",
       "362165 -173.445  1.000580  -97.9122         2        0         0            0  \n",
       "362166 -156.950  1.000570 -177.7730         1        0         0            0  \n",
       "362167 -148.021  1.000380  -97.6792         2        0         0            0  \n",
       "362168 -165.096  0.999488 -257.6310         2        1         0            1  \n",
       "\n",
       "[362169 rows x 14 columns]"
      ]
     },
     "execution_count": 13,
     "metadata": {},
     "output_type": "execute_result"
    }
   ],
   "source": [
    "df_moth"
   ]
  },
  {
   "cell_type": "code",
   "execution_count": 14,
   "metadata": {},
   "outputs": [
    {
     "data": {
      "text/plain": [
       "5994"
      ]
     },
     "execution_count": 14,
     "metadata": {},
     "output_type": "execute_result"
    }
   ],
   "source": [
    "len(trial_start)"
   ]
  },
  {
   "cell_type": "code",
   "execution_count": 15,
   "metadata": {},
   "outputs": [
    {
     "data": {
      "text/plain": [
       "0         1\n",
       "1         1\n",
       "2         1\n",
       "3         1\n",
       "4         2\n",
       "         ..\n",
       "362164    1\n",
       "362165    2\n",
       "362166    1\n",
       "362167    2\n",
       "362168    2\n",
       "Name: behavior, Length: 362169, dtype: int64"
      ]
     },
     "execution_count": 15,
     "metadata": {},
     "output_type": "execute_result"
    }
   ],
   "source": [
    "df_moth.pop('declare')\n",
    "df_moth.pop('termination')\n",
    "df_moth.pop('time_out')\n",
    "df_moth.pop('time')\n",
    "df_moth.pop('posx')\n",
    "df_moth.pop('posy')\n",
    "df_moth.pop('yaw')\n",
    "df_moth.pop('v')\n",
    "df_moth.pop('behavior')"
   ]
  },
  {
   "cell_type": "code",
   "execution_count": 16,
   "metadata": {},
   "outputs": [],
   "source": [
    "# convert negative yaw command to positive\n",
    "\n",
    "def change_yaw(x):\n",
    "    if x < 0:\n",
    "        x += 360\n",
    "    return x"
   ]
  },
  {
   "cell_type": "code",
   "execution_count": 13,
   "metadata": {},
   "outputs": [],
   "source": [
    "df_moth['yaw_c'] = df_moth['yaw_c'].apply(change_yaw)\n",
    "yaw_c1 = df_moth.pop(\"yaw_c\")\n",
    "yaw_c2 = yaw_c1 * np.pi / 180\n",
    "df_moth['Cx'] = np.cos(yaw_c2)\n",
    "df_moth['Cy'] = np.sin(yaw_c2)"
   ]
  },
  {
   "cell_type": "code",
   "execution_count": 14,
   "metadata": {},
   "outputs": [],
   "source": [
    "num_features = df_moth.shape[1]\n",
    "num_features = df_moth.shape[0]"
   ]
  },
  {
   "cell_type": "code",
   "execution_count": 15,
   "metadata": {},
   "outputs": [],
   "source": [
    "mean = df_moth.mean()\n",
    "std = df_moth.std()\n",
    "df_moth = (df_moth - mean) / std"
   ]
  },
  {
   "cell_type": "code",
   "execution_count": 16,
   "metadata": {},
   "outputs": [
    {
     "data": {
      "text/html": [
       "<div>\n",
       "<style scoped>\n",
       "    .dataframe tbody tr th:only-of-type {\n",
       "        vertical-align: middle;\n",
       "    }\n",
       "\n",
       "    .dataframe tbody tr th {\n",
       "        vertical-align: top;\n",
       "    }\n",
       "\n",
       "    .dataframe thead th {\n",
       "        text-align: right;\n",
       "    }\n",
       "</style>\n",
       "<table border=\"1\" class=\"dataframe\">\n",
       "  <thead>\n",
       "    <tr style=\"text-align: right;\">\n",
       "      <th></th>\n",
       "      <th>windvx</th>\n",
       "      <th>windvy</th>\n",
       "      <th>con</th>\n",
       "      <th>detection</th>\n",
       "      <th>Cx</th>\n",
       "      <th>Cy</th>\n",
       "    </tr>\n",
       "  </thead>\n",
       "  <tbody>\n",
       "    <tr>\n",
       "      <th>0</th>\n",
       "      <td>-0.158027</td>\n",
       "      <td>-0.050691</td>\n",
       "      <td>-0.171074</td>\n",
       "      <td>0.956006</td>\n",
       "      <td>-1.092078</td>\n",
       "      <td>0.049595</td>\n",
       "    </tr>\n",
       "    <tr>\n",
       "      <th>1</th>\n",
       "      <td>-0.150319</td>\n",
       "      <td>-0.051391</td>\n",
       "      <td>-0.122757</td>\n",
       "      <td>0.956006</td>\n",
       "      <td>-1.092078</td>\n",
       "      <td>0.049695</td>\n",
       "    </tr>\n",
       "    <tr>\n",
       "      <th>2</th>\n",
       "      <td>-0.143412</td>\n",
       "      <td>-0.052177</td>\n",
       "      <td>-0.121213</td>\n",
       "      <td>0.956006</td>\n",
       "      <td>-1.092078</td>\n",
       "      <td>0.049820</td>\n",
       "    </tr>\n",
       "    <tr>\n",
       "      <th>3</th>\n",
       "      <td>-0.136085</td>\n",
       "      <td>-0.053031</td>\n",
       "      <td>-0.151375</td>\n",
       "      <td>0.956006</td>\n",
       "      <td>-1.092078</td>\n",
       "      <td>0.049971</td>\n",
       "    </tr>\n",
       "    <tr>\n",
       "      <th>4</th>\n",
       "      <td>-0.127176</td>\n",
       "      <td>-0.054051</td>\n",
       "      <td>-0.129594</td>\n",
       "      <td>0.956006</td>\n",
       "      <td>0.164216</td>\n",
       "      <td>1.461405</td>\n",
       "    </tr>\n",
       "    <tr>\n",
       "      <th>...</th>\n",
       "      <td>...</td>\n",
       "      <td>...</td>\n",
       "      <td>...</td>\n",
       "      <td>...</td>\n",
       "      <td>...</td>\n",
       "      <td>...</td>\n",
       "    </tr>\n",
       "    <tr>\n",
       "      <th>362164</th>\n",
       "      <td>1.547810</td>\n",
       "      <td>0.499258</td>\n",
       "      <td>5.689821</td>\n",
       "      <td>0.956006</td>\n",
       "      <td>0.213742</td>\n",
       "      <td>-1.369889</td>\n",
       "    </tr>\n",
       "    <tr>\n",
       "      <th>362165</th>\n",
       "      <td>1.545068</td>\n",
       "      <td>0.547082</td>\n",
       "      <td>4.351558</td>\n",
       "      <td>0.956006</td>\n",
       "      <td>0.218227</td>\n",
       "      <td>-1.370484</td>\n",
       "    </tr>\n",
       "    <tr>\n",
       "      <th>362166</th>\n",
       "      <td>1.541804</td>\n",
       "      <td>0.586083</td>\n",
       "      <td>-0.288799</td>\n",
       "      <td>0.956006</td>\n",
       "      <td>-1.090931</td>\n",
       "      <td>-0.006238</td>\n",
       "    </tr>\n",
       "    <tr>\n",
       "      <th>362167</th>\n",
       "      <td>1.538701</td>\n",
       "      <td>0.612357</td>\n",
       "      <td>0.498661</td>\n",
       "      <td>0.956006</td>\n",
       "      <td>0.224349</td>\n",
       "      <td>-1.371275</td>\n",
       "    </tr>\n",
       "    <tr>\n",
       "      <th>362168</th>\n",
       "      <td>1.536639</td>\n",
       "      <td>0.625660</td>\n",
       "      <td>12.414804</td>\n",
       "      <td>0.956006</td>\n",
       "      <td>0.101910</td>\n",
       "      <td>1.449796</td>\n",
       "    </tr>\n",
       "  </tbody>\n",
       "</table>\n",
       "<p>362169 rows × 6 columns</p>\n",
       "</div>"
      ],
      "text/plain": [
       "          windvx    windvy        con  detection        Cx        Cy\n",
       "0      -0.158027 -0.050691  -0.171074   0.956006 -1.092078  0.049595\n",
       "1      -0.150319 -0.051391  -0.122757   0.956006 -1.092078  0.049695\n",
       "2      -0.143412 -0.052177  -0.121213   0.956006 -1.092078  0.049820\n",
       "3      -0.136085 -0.053031  -0.151375   0.956006 -1.092078  0.049971\n",
       "4      -0.127176 -0.054051  -0.129594   0.956006  0.164216  1.461405\n",
       "...          ...       ...        ...        ...       ...       ...\n",
       "362164  1.547810  0.499258   5.689821   0.956006  0.213742 -1.369889\n",
       "362165  1.545068  0.547082   4.351558   0.956006  0.218227 -1.370484\n",
       "362166  1.541804  0.586083  -0.288799   0.956006 -1.090931 -0.006238\n",
       "362167  1.538701  0.612357   0.498661   0.956006  0.224349 -1.371275\n",
       "362168  1.536639  0.625660  12.414804   0.956006  0.101910  1.449796\n",
       "\n",
       "[362169 rows x 6 columns]"
      ]
     },
     "execution_count": 16,
     "metadata": {},
     "output_type": "execute_result"
    }
   ],
   "source": [
    "df_moth"
   ]
  },
  {
   "cell_type": "code",
   "execution_count": 17,
   "metadata": {},
   "outputs": [],
   "source": [
    "train_df = df_moth[0:int(len(df_moth) * 0.8)]\n",
    "val_df = df_moth[int(len(df_moth) * 0.8):int(len(df_moth) * 0.9)]\n",
    "test_df = df_moth[int(len(df_moth) * 0.9):]"
   ]
  },
  {
   "cell_type": "code",
   "execution_count": 18,
   "metadata": {},
   "outputs": [],
   "source": [
    "# define the window_generator function\n",
    "class WindowGenerator():\n",
    "    def __init__(self, input_width, label_width, shift,\n",
    "                 train_df, val_df, test_df,\n",
    "                 label_columns=None,\n",
    "                 input_columns=None):\n",
    "        # Store the raw data.\n",
    "        self.train_df = train_df\n",
    "        self.val_df = val_df\n",
    "        self.test_df = test_df\n",
    "\n",
    "        # Work out the label column indices.\n",
    "        self.label_columns = label_columns\n",
    "        self.input_columns = input_columns\n",
    "        if label_columns is not None:\n",
    "            self.label_columns_indices = {name: i for i, name in\n",
    "                                          enumerate(label_columns)}\n",
    "        self.column_indices = {name: i for i, name in\n",
    "                               enumerate(train_df.columns)}\n",
    "\n",
    "        # Work out the window parameters.\n",
    "        self.input_width = input_width\n",
    "        self.label_width = label_width\n",
    "        self.shift = shift\n",
    "\n",
    "        self.total_window_size = input_width + shift\n",
    "\n",
    "        self.input_slice = slice(0, input_width)\n",
    "        self.input_indices = np.arange(self.total_window_size)[self.input_slice]\n",
    "\n",
    "        self.label_start = self.total_window_size - self.label_width\n",
    "        self.labels_slice = slice(self.label_start, None)\n",
    "        self.label_indices = np.arange(self.total_window_size)[self.labels_slice]\n",
    "\n",
    "    def __repr__(self):\n",
    "        return '\\n'.join([\n",
    "            f'Total window size: {self.total_window_size}',\n",
    "            f'Input indices: {self.input_indices}',\n",
    "            f'Input column names: {self.input_columns}',\n",
    "            f'Label indices: {self.label_indices}',\n",
    "            f'Label column name(s): {self.label_columns}'])\n",
    "\n",
    "    def split_window(self, features):\n",
    "        inputs = features[:, self.input_slice, :]\n",
    "        labels = features[:, self.labels_slice, :]\n",
    "        if self.label_columns is not None:\n",
    "            labels = tf.stack(\n",
    "                [labels[:, :, self.column_indices[name]] for name in self.label_columns],\n",
    "                axis=-1)\n",
    "        if self.input_columns is not None:\n",
    "            inputs = tf.stack(\n",
    "                [inputs[:, :, self.column_indices[name]] for name in self.input_columns],\n",
    "                axis=-1)\n",
    "\n",
    "        # Slicing doesn't preserve static shape information, so set the shapes\n",
    "        # manually. This way the `tf.data.Datasets` are easier to inspect.\n",
    "        inputs.set_shape([None, self.input_width, None])\n",
    "        labels.set_shape([None, self.label_width, None])\n",
    "\n",
    "        return inputs, labels\n",
    "\n",
    "    def make_dataset(self, data):\n",
    "        data = np.array(data, dtype=np.float32)\n",
    "        ds = tf.keras.preprocessing.timeseries_dataset_from_array(\n",
    "            data=data,\n",
    "            targets=None,\n",
    "            sequence_length=self.total_window_size,\n",
    "            sequence_stride=1,\n",
    "            shuffle=True,\n",
    "            batch_size=16, )\n",
    "\n",
    "        ds = ds.map(self.split_window)\n",
    "\n",
    "        return ds\n",
    "    \n",
    "    # convert DataFrame into Dataset\n",
    "    @property\n",
    "    def train(self):\n",
    "        return self.make_dataset(self.train_df)\n",
    "\n",
    "    @property\n",
    "    def val(self):\n",
    "        return self.make_dataset(self.val_df)\n",
    "\n",
    "    @property\n",
    "    def test(self):\n",
    "        return self.make_dataset(self.test_df)\n",
    "\n",
    "    @property\n",
    "    # fetch an example batch for plotting\n",
    "    def example(self):\n",
    "        # by default, call example function returns None\n",
    "        result = getattr(self, '_example', None)\n",
    "        if result is None:\n",
    "            # no example batch was found, so get one from the '.train' dataset\n",
    "            # iter: creates an iterator object\n",
    "            result = next(iter(self.train))\n",
    "            # and cache it for the next time\n",
    "            self._example = result\n",
    "\n",
    "        return result\n",
    "\n",
    "    def plot(self, model=None, plot_col='Yaw_e', max_subplots=3):\n",
    "        inputs, labels = self.example\n",
    "        plt.figure(figsize=(12, 8))\n",
    "        # find the index of the column that the user wants to plot\n",
    "        plot_col_index = self.column_indices[plot_col]\n",
    "        # only plots maximal 3 batches of data\n",
    "        max_n = min(max_subplots, len(inputs))\n",
    "        for n in range(max_n):\n",
    "            plt.subplot(3, 1, n + 1)\n",
    "            plt.ylabel(f'{plot_col}[normed]')\n",
    "            plt.plot(self.input_indices, inputs[n, :, plot_col_index],\n",
    "                     label='Inputs', marker='.', zorder=-10)\n",
    "\n",
    "            if self.label_columns:\n",
    "                # get: method returns the value of the item (index) with the specified key (name)\n",
    "                # get(keyname, value=None)\n",
    "                label_col_index = self.label_columns_indices.get(plot_col, None)\n",
    "            else:\n",
    "                label_col_index = plot_col_index\n",
    "\n",
    "            if label_col_index is None:\n",
    "                # with the continue statement, we can stop the current iteration of the for loop\n",
    "                # and continue with the next\n",
    "                continue\n",
    "\n",
    "            plt.scatter(self.label_indices, labels[n, :, label_col_index], edgecolors='k',\n",
    "                        label='Labels', c='#2ca02c', s=64)\n",
    "            if model is not None:\n",
    "                predictions = model(inputs)\n",
    "                plt.scatter(self.label_indices, predictions[n, :, label_col_index],\n",
    "                            marker='X', edgecolors='k', label='Predictions',\n",
    "                            c='#ff7f0e', s=64)\n",
    "            if n == 0:\n",
    "                plt.legend()\n",
    "\n",
    "        plt.xlabel('Time[s]')\n",
    "        plt.show()\n"
   ]
  },
  {
   "cell_type": "code",
   "execution_count": 19,
   "metadata": {},
   "outputs": [],
   "source": [
    "MAX_EPOCHS = 20\n",
    "\n",
    "def compile_and_fit(model, window, patience=2):\n",
    "    early_stopping = tf.keras.callbacks.EarlyStopping(monitor='val_loss',\n",
    "                                                      patience=patience,\n",
    "                                                      mode='min')\n",
    "\n",
    "    model.compile(loss=tf.losses.MeanSquaredError(),\n",
    "                  optimizer=tf.optimizers.Adam(),\n",
    "                  metrics=[tf.metrics.MeanAbsoluteError()])\n",
    "\n",
    "    history = model.fit(window.train, epochs=MAX_EPOCHS,\n",
    "                        validation_data=window.val,\n",
    "                        callbacks=[early_stopping])\n",
    "    return history\n"
   ]
  },
  {
   "cell_type": "code",
   "execution_count": 20,
   "metadata": {},
   "outputs": [],
   "source": [
    "columns = df_moth.columns\n",
    "label_columns = ['Cx', 'Cy']\n",
    "input_columns = list((Counter(columns) - Counter(label_columns)).elements())\n",
    "num_inputs = len(input_columns)"
   ]
  },
  {
   "cell_type": "code",
   "execution_count": 21,
   "metadata": {},
   "outputs": [],
   "source": [
    "filter_size = 64\n",
    "lstm_model = tf.keras.models.Sequential([\n",
    "        # Shape [batch, time, features] => [batch, time, lstm_units]\n",
    "        tf.keras.layers.LSTM(256, return_sequences=True),\n",
    "        tf.keras.layers.LSTM(256, return_sequences=True),\n",
    "        # Shape => [batch, time, features]\n",
    "        tf.keras.layers.Dense(units=filter_size, activation='relu'),\n",
    "        tf.keras.layers.Dense(units=filter_size, activation='relu'),\n",
    "        tf.keras.layers.Dense(units=2)\n",
    "    ])"
   ]
  },
  {
   "cell_type": "code",
   "execution_count": 22,
   "metadata": {},
   "outputs": [],
   "source": [
    "CONV_WIDTH = 6\n",
    "\n",
    "lstm_window = WindowGenerator(\n",
    "        input_width=CONV_WIDTH,\n",
    "        label_width=CONV_WIDTH,\n",
    "        shift=0,\n",
    "        train_df=train_df,\n",
    "        test_df=test_df,\n",
    "        val_df=val_df,\n",
    "        label_columns=label_columns,\n",
    "        input_columns=input_columns\n",
    "    )"
   ]
  },
  {
   "cell_type": "code",
   "execution_count": 23,
   "metadata": {},
   "outputs": [
    {
     "name": "stdout",
     "output_type": "stream",
     "text": [
      "Epoch 1/20\n",
      "18109/18109 [==============================] - 532s 29ms/step - loss: 0.7477 - mean_absolute_error: 0.7043 - val_loss: 0.7271 - val_mean_absolute_error: 0.6799\n",
      "Epoch 2/20\n",
      "18109/18109 [==============================] - 528s 29ms/step - loss: 0.7355 - mean_absolute_error: 0.6929 - val_loss: 0.7229 - val_mean_absolute_error: 0.6790\n",
      "Epoch 3/20\n",
      "18109/18109 [==============================] - 540s 30ms/step - loss: 0.7303 - mean_absolute_error: 0.6885 - val_loss: 0.7212 - val_mean_absolute_error: 0.6779\n",
      "Epoch 4/20\n",
      "18109/18109 [==============================] - 512s 28ms/step - loss: 0.7224 - mean_absolute_error: 0.6829 - val_loss: 0.7201 - val_mean_absolute_error: 0.6759\n",
      "Epoch 5/20\n",
      "18109/18109 [==============================] - 533s 29ms/step - loss: 0.7096 - mean_absolute_error: 0.6742 - val_loss: 0.7183 - val_mean_absolute_error: 0.6711\n",
      "Epoch 6/20\n",
      "18109/18109 [==============================] - 501s 28ms/step - loss: 0.6992 - mean_absolute_error: 0.6669 - val_loss: 0.7168 - val_mean_absolute_error: 0.6683\n",
      "Epoch 7/20\n",
      "18109/18109 [==============================] - 470s 26ms/step - loss: 0.6897 - mean_absolute_error: 0.6605 - val_loss: 0.7279 - val_mean_absolute_error: 0.6689\n",
      "Epoch 8/20\n",
      "18109/18109 [==============================] - 473s 26ms/step - loss: 0.6803 - mean_absolute_error: 0.6540 - val_loss: 0.7306 - val_mean_absolute_error: 0.6720\n",
      "2264/2264 [==============================] - 15s 7ms/step - loss: 0.7213 - mean_absolute_error: 0.6681\n",
      "[0.7213001847267151, 0.6681303977966309] 1.389430582523346\n"
     ]
    }
   ],
   "source": [
    "history = compile_and_fit(lstm_model, lstm_window)\n",
    "\n",
    "val_performance = lstm_model.evaluate(lstm_window.test)\n",
    "print(val_performance, sum(val_performance))\n"
   ]
  },
  {
   "cell_type": "code",
   "execution_count": 25,
   "metadata": {},
   "outputs": [],
   "source": [
    "model_selection = 'RNN'\n",
    "dataset = 'moth'\n",
    "model_path = \"C:/Users/hp-pc/Desktop/GRP/{}/sim_data/{}/\".format(model_selection, dataset)\n",
    "mean_path = 'C:/Users/hp-pc/Desktop/GRP/{}/sim_data/{}/'.format(model_selection, dataset)\n",
    "\n",
    "lstm_model.save(model_path+'rnn_nocon.h5',\n",
    "                include_optimizer=False)\n",
    "# save train_mean and train_std\n",
    "np.savetxt(mean_path+'mean.txt', mean)\n",
    "np.savetxt(mean_path+'std.txt', std)"
   ]
  },
  {
   "cell_type": "markdown",
   "metadata": {},
   "source": [
    "TransferLearning"
   ]
  },
  {
   "cell_type": "code",
   "execution_count": 2,
   "metadata": {},
   "outputs": [],
   "source": [
    "import matplotlib.pyplot as plt\n",
    "import numpy as np\n",
    "import os\n",
    "import tensorflow as tf"
   ]
  },
  {
   "cell_type": "code",
   "execution_count": 3,
   "metadata": {},
   "outputs": [],
   "source": [
    "dataset_path2 = \"C:\\\\Users\\\\hp-pc\\\\Desktop\\\\GRP\\\\real_data\\\\moth\\\\moth_total\\\\moth_total.csv\""
   ]
  },
  {
   "cell_type": "code",
   "execution_count": 4,
   "metadata": {},
   "outputs": [
    {
     "ename": "NameError",
     "evalue": "name 'pd' is not defined",
     "output_type": "error",
     "traceback": [
      "\u001b[1;31m---------------------------------------------------------------------------\u001b[0m",
      "\u001b[1;31mNameError\u001b[0m                                 Traceback (most recent call last)",
      "\u001b[1;32m<ipython-input-4-135fb3625706>\u001b[0m in \u001b[0;36m<module>\u001b[1;34m\u001b[0m\n\u001b[1;32m----> 1\u001b[1;33m \u001b[0mdf_moth_real\u001b[0m \u001b[1;33m=\u001b[0m \u001b[0mpd\u001b[0m\u001b[1;33m.\u001b[0m\u001b[0mread_csv\u001b[0m\u001b[1;33m(\u001b[0m\u001b[0mdataset_path2\u001b[0m\u001b[1;33m,\u001b[0m \u001b[0mindex_col\u001b[0m\u001b[1;33m=\u001b[0m\u001b[1;32mFalse\u001b[0m\u001b[1;33m)\u001b[0m\u001b[1;33m\u001b[0m\u001b[1;33m\u001b[0m\u001b[0m\n\u001b[0m",
      "\u001b[1;31mNameError\u001b[0m: name 'pd' is not defined"
     ]
    }
   ],
   "source": [
    "df_moth_real = pd.read_csv(dataset_path2, index_col=False)"
   ]
  },
  {
   "cell_type": "code",
   "execution_count": null,
   "metadata": {},
   "outputs": [],
   "source": [
    "df_moth_real"
   ]
  },
  {
   "cell_type": "markdown",
   "metadata": {},
   "source": [
    "Preprocessing & Cleansing"
   ]
  },
  {
   "cell_type": "code",
   "execution_count": 29,
   "metadata": {},
   "outputs": [
    {
     "data": {
      "text/plain": [
       "0       -64.979655\n",
       "1       -64.981916\n",
       "2       -25.000000\n",
       "3        -9.000000\n",
       "4        -4.000000\n",
       "           ...    \n",
       "13694    -6.581422\n",
       "13695    -6.184947\n",
       "13696    -5.723173\n",
       "13697    -5.343430\n",
       "13698    -5.063220\n",
       "Name: yaw_error, Length: 13699, dtype: float64"
      ]
     },
     "execution_count": 29,
     "metadata": {},
     "output_type": "execute_result"
    }
   ],
   "source": [
    "df_moth_real = df_moth_real.dropna()\n",
    "df_moth_real.pop('time')\n",
    "df_moth_real.pop('posx')\n",
    "df_moth_real.pop('posy')\n",
    "df_moth_real.pop('yaw')\n",
    "df_moth_real.pop('yaw_error')"
   ]
  },
  {
   "cell_type": "code",
   "execution_count": 30,
   "metadata": {},
   "outputs": [],
   "source": [
    "def change_yaw(x):\n",
    "    if x < 0:\n",
    "        x += 360\n",
    "    return x\n",
    "\n",
    "df_moth_real['yaw_c'] = df_moth_real['yaw_c'].apply(change_yaw)\n",
    "yaw_c_real = df_moth_real.pop(\"yaw_c\")\n",
    "yaw_c_real = yaw_c_real * np.pi / 180 # deg to rad\n",
    "df_moth_real['Cx'] = np.cos(yaw_c_real)\n",
    "df_moth_real['Cy'] = np.sin(yaw_c_real)"
   ]
  },
  {
   "cell_type": "code",
   "execution_count": 31,
   "metadata": {},
   "outputs": [],
   "source": [
    "def change_winddir(x):\n",
    "    if x < 0:\n",
    "        x += 360\n",
    "    return x\n",
    "\n",
    "df_moth_real['winddir'] = df_moth_real['winddir'].apply(change_winddir)\n",
    "winddir = df_moth_real.pop(\"winddir\")\n",
    "winddir = winddir * np.pi / 180\n",
    "df_moth_real['windvx'] = df_moth_real['windv']*np.cos(winddir)\n",
    "df_moth_real['windvy'] = df_moth_real['windv']*np.sin(winddir)"
   ]
  },
  {
   "cell_type": "code",
   "execution_count": 32,
   "metadata": {},
   "outputs": [],
   "source": [
    "winddir = df_moth_real.pop(\"windv\")\n",
    "df_moth_real = df_moth_real[['windvx', 'windvy', 'con', 'detection', 'Cx', 'Cy']]"
   ]
  },
  {
   "cell_type": "code",
   "execution_count": 33,
   "metadata": {},
   "outputs": [],
   "source": [
    "mean = df_moth_real.mean()\n",
    "std = df_moth_real.std()\n",
    "\n",
    "model_selection = 'RNN'\n",
    "dataset = 'moth'\n",
    "model_path = \"C:/Users/hp-pc/Desktop/GRP/{}/sim_data/{}/\".format(model_selection, dataset)\n",
    "mean_path = 'C:/Users/hp-pc/Desktop/GRP/{}/sim_data/{}/'.format(model_selection, dataset)\n",
    "np.savetxt(mean_path+'mean.txt', mean)\n",
    "np.savetxt(mean_path+'std.txt', std)\n",
    "\n",
    "df_moth_real = (df_moth_real - mean) / std"
   ]
  },
  {
   "cell_type": "code",
   "execution_count": 34,
   "metadata": {},
   "outputs": [],
   "source": [
    "train_df_real = df_moth_real[0:int(len(df_moth_real) * 0.8)]\n",
    "val_df_real = df_moth_real[int(len(df_moth_real) * 0.8):int(len(df_moth_real) * 0.9)]\n",
    "test_df_real = df_moth_real[int(len(df_moth_real) * 0.9):]"
   ]
  },
  {
   "cell_type": "code",
   "execution_count": 35,
   "metadata": {},
   "outputs": [],
   "source": [
    "shape = (6, 4)\n",
    "\n",
    "base_model = tf.keras.applications.lstm_model(input_shape=shape,\n",
    "                                               include_top=False)\n",
    "\n",
    "base_model.trainable = False"
   ]
  },
  {
   "cell_type": "code",
   "execution_count": 36,
   "metadata": {},
   "outputs": [
    {
     "name": "stdout",
     "output_type": "stream",
     "text": [
      "Model: \"sequential\"\n",
      "_________________________________________________________________\n",
      " Layer (type)                Output Shape              Param #   \n",
      "=================================================================\n",
      " lstm (LSTM)                 (None, 6, 256)            267264    \n",
      "                                                                 \n",
      " lstm_1 (LSTM)               (None, 6, 256)            525312    \n",
      "                                                                 \n",
      " dense (Dense)               (None, 6, 64)             16448     \n",
      "                                                                 \n",
      " dense_1 (Dense)             (None, 6, 64)             4160      \n",
      "                                                                 \n",
      " dense_2 (Dense)             (None, 6, 2)              130       \n",
      "                                                                 \n",
      "=================================================================\n",
      "Total params: 813,314\n",
      "Trainable params: 0\n",
      "Non-trainable params: 813,314\n",
      "_________________________________________________________________\n"
     ]
    }
   ],
   "source": [
    "# Let's take a look at the base model architecture\n",
    "lstm_model.summary()"
   ]
  },
  {
   "cell_type": "code",
   "execution_count": 49,
   "metadata": {},
   "outputs": [],
   "source": [
    "model = tf.keras.models.Sequential([\n",
    "        # Shape [batch, time, features] => [batch, time, lstm_units]\n",
    "        tf.keras.layers.LSTM(256, return_sequences=True),\n",
    "        tf.keras.layers.LSTM(256, return_sequences=True),\n",
    "        # Shape => [batch, time, features]\n",
    "        tf.keras.layers.Dense(units=filter_size, activation='relu'),\n",
    "        tf.keras.layers.Dense(units=filter_size, activation='relu'),\n",
    "        tf.keras.layers.Dense(units=2)\n",
    "    ])\n"
   ]
  },
  {
   "cell_type": "code",
   "execution_count": 38,
   "metadata": {},
   "outputs": [],
   "source": [
    "prediction_layer = tf.keras.layers.Dense(2)\n",
    "inputs = tf.keras.Input(shape=(6, 4))\n",
    "#inputs=tf.Tensor(shape=(None, 6), dtype=tf.float32)\n",
    "#x = lstm_model(inputs, training=False)\n",
    "#x = global_average_layer(x)\n",
    "#x = tf.keras.layers.Dropout(0.2)(x)\n",
    "outputs = prediction_layer(inputs)\n",
    "model = tf.keras.Model(inputs, outputs)"
   ]
  },
  {
   "cell_type": "code",
   "execution_count": 50,
   "metadata": {},
   "outputs": [],
   "source": [
    "model.compile(optimizer='rmsprop',\n",
    "        loss= 'mae',\n",
    "         metrics=['acc'])"
   ]
  },
  {
   "cell_type": "code",
   "execution_count": 51,
   "metadata": {
    "scrolled": true
   },
   "outputs": [
    {
     "ename": "ValueError",
     "evalue": "This model has not yet been built. Build the model first by calling `build()` or by calling the model on a batch of data.",
     "output_type": "error",
     "traceback": [
      "\u001b[1;31m---------------------------------------------------------------------------\u001b[0m",
      "\u001b[1;31mValueError\u001b[0m                                Traceback (most recent call last)",
      "\u001b[1;32m<ipython-input-51-5f15418b3570>\u001b[0m in \u001b[0;36m<module>\u001b[1;34m\u001b[0m\n\u001b[1;32m----> 1\u001b[1;33m \u001b[0mmodel\u001b[0m\u001b[1;33m.\u001b[0m\u001b[0msummary\u001b[0m\u001b[1;33m(\u001b[0m\u001b[1;33m)\u001b[0m\u001b[1;33m\u001b[0m\u001b[1;33m\u001b[0m\u001b[0m\n\u001b[0m",
      "\u001b[1;32m~\\anaconda3\\lib\\site-packages\\keras\\engine\\training.py\u001b[0m in \u001b[0;36msummary\u001b[1;34m(self, line_length, positions, print_fn, expand_nested, show_trainable)\u001b[0m\n\u001b[0;32m   2773\u001b[0m     \"\"\"\n\u001b[0;32m   2774\u001b[0m     \u001b[1;32mif\u001b[0m \u001b[1;32mnot\u001b[0m \u001b[0mself\u001b[0m\u001b[1;33m.\u001b[0m\u001b[0mbuilt\u001b[0m\u001b[1;33m:\u001b[0m\u001b[1;33m\u001b[0m\u001b[1;33m\u001b[0m\u001b[0m\n\u001b[1;32m-> 2775\u001b[1;33m       raise ValueError(\n\u001b[0m\u001b[0;32m   2776\u001b[0m           \u001b[1;34m'This model has not yet been built. '\u001b[0m\u001b[1;33m\u001b[0m\u001b[1;33m\u001b[0m\u001b[0m\n\u001b[0;32m   2777\u001b[0m           \u001b[1;34m'Build the model first by calling `build()` or by calling '\u001b[0m\u001b[1;33m\u001b[0m\u001b[1;33m\u001b[0m\u001b[0m\n",
      "\u001b[1;31mValueError\u001b[0m: This model has not yet been built. Build the model first by calling `build()` or by calling the model on a batch of data."
     ]
    }
   ],
   "source": [
    "model.summary()"
   ]
  },
  {
   "cell_type": "code",
   "execution_count": 52,
   "metadata": {
    "scrolled": true
   },
   "outputs": [
    {
     "name": "stdout",
     "output_type": "stream",
     "text": [
      "Epoch 1/20\n",
      "18109/18109 [==============================] - 537s 29ms/step - loss: 0.7472 - mean_absolute_error: 0.7036 - val_loss: 0.7242 - val_mean_absolute_error: 0.6827\n",
      "Epoch 2/20\n",
      "18109/18109 [==============================] - 539s 30ms/step - loss: 0.7351 - mean_absolute_error: 0.6924 - val_loss: 0.7206 - val_mean_absolute_error: 0.6770\n",
      "Epoch 3/20\n",
      "18109/18109 [==============================] - 486s 27ms/step - loss: 0.7297 - mean_absolute_error: 0.6881 - val_loss: 0.7173 - val_mean_absolute_error: 0.6736\n",
      "Epoch 4/20\n",
      "18109/18109 [==============================] - 473s 26ms/step - loss: 0.7187 - mean_absolute_error: 0.6805 - val_loss: 0.7123 - val_mean_absolute_error: 0.6684\n",
      "Epoch 5/20\n",
      "18109/18109 [==============================] - 480s 27ms/step - loss: 0.7069 - mean_absolute_error: 0.6724 - val_loss: 0.7110 - val_mean_absolute_error: 0.6654\n",
      "Epoch 6/20\n",
      "18109/18109 [==============================] - 476s 26ms/step - loss: 0.6976 - mean_absolute_error: 0.6661 - val_loss: 0.7125 - val_mean_absolute_error: 0.6640\n",
      "Epoch 7/20\n",
      "18109/18109 [==============================] - 475s 26ms/step - loss: 0.6888 - mean_absolute_error: 0.6601 - val_loss: 0.7126 - val_mean_absolute_error: 0.6655\n"
     ]
    }
   ],
   "source": [
    "history = compile_and_fit(model, lstm_window)"
   ]
  },
  {
   "cell_type": "code",
   "execution_count": 17,
   "metadata": {},
   "outputs": [
    {
     "ename": "NameError",
     "evalue": "name 'model' is not defined",
     "output_type": "error",
     "traceback": [
      "\u001b[1;31m---------------------------------------------------------------------------\u001b[0m",
      "\u001b[1;31mNameError\u001b[0m                                 Traceback (most recent call last)",
      "\u001b[1;32m<ipython-input-17-a3975d8154c1>\u001b[0m in \u001b[0;36m<module>\u001b[1;34m\u001b[0m\n\u001b[1;32m----> 1\u001b[1;33m \u001b[0mmodel\u001b[0m\u001b[1;33m.\u001b[0m\u001b[0msave\u001b[0m\u001b[1;33m(\u001b[0m\u001b[1;34m'C:\\\\Users\\\\hp-pc\\\\Desktop\\\\GRP\\\\Real-world test\\\\rnn_mothV4_{}.h5'\u001b[0m\u001b[1;33m.\u001b[0m\u001b[0mformat\u001b[0m\u001b[1;33m(\u001b[0m\u001b[0mCONV_WIDTH\u001b[0m\u001b[1;33m)\u001b[0m\u001b[1;33m,\u001b[0m \u001b[0minclude_optimizer\u001b[0m\u001b[1;33m=\u001b[0m\u001b[1;32mFalse\u001b[0m\u001b[1;33m)\u001b[0m\u001b[1;33m\u001b[0m\u001b[1;33m\u001b[0m\u001b[0m\n\u001b[0m",
      "\u001b[1;31mNameError\u001b[0m: name 'model' is not defined"
     ]
    }
   ],
   "source": [
    "model.save('C:\\\\Users\\\\hp-pc\\\\Desktop\\\\GRP\\\\Real-world test\\\\rnn_mothV4_{}.h5'.format(CONV_WIDTH), include_optimizer=False)"
   ]
  },
  {
   "cell_type": "code",
   "execution_count": 18,
   "metadata": {},
   "outputs": [
    {
     "ename": "NameError",
     "evalue": "name 'history' is not defined",
     "output_type": "error",
     "traceback": [
      "\u001b[1;31m---------------------------------------------------------------------------\u001b[0m",
      "\u001b[1;31mNameError\u001b[0m                                 Traceback (most recent call last)",
      "\u001b[1;32m<ipython-input-18-b16280a20325>\u001b[0m in \u001b[0;36m<module>\u001b[1;34m\u001b[0m\n\u001b[1;32m----> 1\u001b[1;33m \u001b[0macc\u001b[0m \u001b[1;33m=\u001b[0m \u001b[0mhistory\u001b[0m\u001b[1;33m.\u001b[0m\u001b[0mhistory\u001b[0m\u001b[1;33m[\u001b[0m\u001b[1;34m'mean_absolute_error'\u001b[0m\u001b[1;33m]\u001b[0m\u001b[1;33m\u001b[0m\u001b[1;33m\u001b[0m\u001b[0m\n\u001b[0m\u001b[0;32m      2\u001b[0m \u001b[0mval_acc\u001b[0m \u001b[1;33m=\u001b[0m \u001b[0mhistory\u001b[0m\u001b[1;33m.\u001b[0m\u001b[0mhistory\u001b[0m\u001b[1;33m[\u001b[0m\u001b[1;34m'val_mean_absolute_error'\u001b[0m\u001b[1;33m]\u001b[0m\u001b[1;33m\u001b[0m\u001b[1;33m\u001b[0m\u001b[0m\n\u001b[0;32m      3\u001b[0m \u001b[1;33m\u001b[0m\u001b[0m\n\u001b[0;32m      4\u001b[0m \u001b[0mloss\u001b[0m \u001b[1;33m=\u001b[0m \u001b[0mhistory\u001b[0m\u001b[1;33m.\u001b[0m\u001b[0mhistory\u001b[0m\u001b[1;33m[\u001b[0m\u001b[1;34m'loss'\u001b[0m\u001b[1;33m]\u001b[0m\u001b[1;33m\u001b[0m\u001b[1;33m\u001b[0m\u001b[0m\n\u001b[0;32m      5\u001b[0m \u001b[0mval_loss\u001b[0m \u001b[1;33m=\u001b[0m \u001b[0mhistory\u001b[0m\u001b[1;33m.\u001b[0m\u001b[0mhistory\u001b[0m\u001b[1;33m[\u001b[0m\u001b[1;34m'val_loss'\u001b[0m\u001b[1;33m]\u001b[0m\u001b[1;33m\u001b[0m\u001b[1;33m\u001b[0m\u001b[0m\n",
      "\u001b[1;31mNameError\u001b[0m: name 'history' is not defined"
     ]
    }
   ],
   "source": [
    "acc = history.history['mean_absolute_error']\n",
    "val_acc = history.history['val_mean_absolute_error']\n",
    "\n",
    "loss = history.history['loss']\n",
    "val_loss = history.history['val_loss']"
   ]
  },
  {
   "cell_type": "code",
   "execution_count": 59,
   "metadata": {},
   "outputs": [
    {
     "data": {
      "image/png": "[encoded data removed]",
      "text/plain": [
       "<Figure size 576x576 with 2 Axes>"
      ]
     },
     "metadata": {
      "needs_background": "light"
     },
     "output_type": "display_data"
    }
   ],
   "source": [
    "plt.figure(figsize=(8, 8))\n",
    "plt.subplot(2, 1, 1)\n",
    "plt.plot(acc, label='Training')\n",
    "plt.plot(val_acc, label='Validation')\n",
    "plt.legend(loc='upper right')\n",
    "plt.ylabel('Mean Absolute Error')\n",
    "plt.ylim([min(plt.ylim()),1])\n",
    "plt.title('Training and Validation metrics')\n",
    "\n",
    "plt.subplot(2, 1, 2)\n",
    "plt.plot(loss, label='Training Loss')\n",
    "plt.plot(val_loss, label='Validation Loss')\n",
    "plt.legend(loc='upper right')\n",
    "plt.ylabel('Mean Squared Error')\n",
    "plt.ylim([0,1.0])\n",
    "plt.title('Training and Validation Loss')\n",
    "plt.xlabel('epoch')\n",
    "plt.savefig(\"TL_moth_rnn.jpg\")\n",
    "plt.show()"
   ]
  },
  {
   "cell_type": "markdown",
   "metadata": {},
   "source": [
    "Fine_Tuning"
   ]
  },
  {
   "cell_type": "code",
   "execution_count": 286,
   "metadata": {},
   "outputs": [],
   "source": [
    "conv_model.trainable = True"
   ]
  },
  {
   "cell_type": "code",
   "execution_count": 288,
   "metadata": {},
   "outputs": [
    {
     "data": {
      "text/plain": [
       "6"
      ]
     },
     "execution_count": 288,
     "metadata": {},
     "output_type": "execute_result"
    }
   ],
   "source": [
    "len(conv_model.layers)"
   ]
  },
  {
   "cell_type": "code",
   "execution_count": 289,
   "metadata": {},
   "outputs": [
    {
     "name": "stdout",
     "output_type": "stream",
     "text": [
      "Number of layers in the base model:  6\n"
     ]
    }
   ],
   "source": [
    "# Let's take a look to see how many layers are in the base model\n",
    "print(\"Number of layers in the base model: \", len(conv_model.layers))\n",
    "\n",
    "# Fine-tune from this layer onwards\n",
    "fine_tune_at = 2\n",
    "\n",
    "# Freeze all the layers before the `fine_tune_at` layer\n",
    "for layer in conv_model.layers[:fine_tune_at]:\n",
    "  layer.trainable = False"
   ]
  },
  {
   "cell_type": "code",
   "execution_count": null,
   "metadata": {},
   "outputs": [],
   "source": [
    "base_learning_rate = 0.0001\n",
    "model.compile(optimizer=tf.keras.optimizers.Adam(learning_rate=base_learning_rate),\n",
    "              loss=tf.keras.losses.BinaryCrossentropy(from_logits=True),\n",
    "              metrics=['accuracy'])"
   ]
  },
  {
   "cell_type": "code",
   "execution_count": null,
   "metadata": {},
   "outputs": [],
   "source": [
    "model.compile(loss=tf.keras.losses.BinaryCrossentropy(from_logits=True),\n",
    "              optimizer = tf.keras.optimizers.RMSprop(learning_rate=base_learning_rate/10),\n",
    "              metrics=['accuracy'])"
   ]
  }
 ],
 "metadata": {
  "kernelspec": {
   "display_name": "Python 3",
   "language": "python",
   "name": "python3"
  },
  "language_info": {
   "codemirror_mode": {
    "name": "ipython",
    "version": 3
   },
   "file_extension": ".py",
   "mimetype": "text/x-python",
   "name": "python",
   "nbconvert_exporter": "python",
   "pygments_lexer": "ipython3",
   "version": "3.8.5"
  }
 },
 "nbformat": 4,
 "nbformat_minor": 4
}
