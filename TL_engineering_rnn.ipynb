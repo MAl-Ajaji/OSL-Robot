{
 "cells": [
  {
   "cell_type": "code",
   "execution_count": 1,
   "metadata": {},
   "outputs": [],
   "source": [
    "import pandas as pd\n",
    "import numpy as np\n",
    "import matplotlib.pyplot as plt\n",
    "import tensorflow as tf\n",
    "import os\n",
    "from collections import Counter\n",
    "import pickle"
   ]
  },
  {
   "cell_type": "code",
   "execution_count": 2,
   "metadata": {},
   "outputs": [],
   "source": [
    "dataset_path_engineering = \"C:\\\\Users\\\\hp-pc\\\\Desktop\\\\GRP\\\\sim_data\\\\engineering\\\\engineering_total\\\\engineering_total.csv\""
   ]
  },
  {
   "cell_type": "code",
   "execution_count": 3,
   "metadata": {},
   "outputs": [],
   "source": [
    "df_engineering = pd.read_csv(dataset_path_engineering, index_col=False)"
   ]
  },
  {
   "cell_type": "code",
   "execution_count": 4,
   "metadata": {},
   "outputs": [],
   "source": [
    "df_engineering = df_engineering.dropna()\n",
    "\n",
    "num_trial = len(df_engineering[df_engineering['Termination'] == 1])\n",
    "num_D_trial = len(df_engineering[df_engineering['Declare'] == 1])\n",
    "num_TO_trial = len(df_engineering[df_engineering['Time_out'] == 1])\n",
    "\n",
    "trial_start = []\n",
    "trial_D_start = []"
   ]
  },
  {
   "cell_type": "code",
   "execution_count": 5,
   "metadata": {},
   "outputs": [],
   "source": [
    "for i in range(df_engineering.shape[0]):\n",
    "    if df_engineering['Time'].iloc[i] == 0:\n",
    "        trial_start.append(i)\n",
    "    if df_engineering['Termination'].iloc[i] == 1:\n",
    "        trial_D_start.append(i)"
   ]
  },
  {
   "cell_type": "code",
   "execution_count": 6,
   "metadata": {},
   "outputs": [
    {
     "data": {
      "text/plain": [
       "0         1.16484\n",
       "1         1.31895\n",
       "2         1.41026\n",
       "3         1.46168\n",
       "4         1.48884\n",
       "           ...   \n",
       "689939    1.49992\n",
       "689940    1.49989\n",
       "689941    1.49981\n",
       "689942    1.49970\n",
       "689943    1.06647\n",
       "Name: V, Length: 689944, dtype: float64"
      ]
     },
     "execution_count": 6,
     "metadata": {},
     "output_type": "execute_result"
    }
   ],
   "source": [
    "df_engineering.pop('Declare')\n",
    "df_engineering.pop('Termination')\n",
    "df_engineering.pop('Time_out')\n",
    "df_engineering.pop('Time')\n",
    "df_engineering.pop('X')\n",
    "df_engineering.pop('Y')\n",
    "df_engineering.pop('Yaw')\n",
    "df_engineering.pop('V')"
   ]
  },
  {
   "cell_type": "code",
   "execution_count": 7,
   "metadata": {},
   "outputs": [
    {
     "data": {
      "text/html": [
       "<div>\n",
       "<style scoped>\n",
       "    .dataframe tbody tr th:only-of-type {\n",
       "        vertical-align: middle;\n",
       "    }\n",
       "\n",
       "    .dataframe tbody tr th {\n",
       "        vertical-align: top;\n",
       "    }\n",
       "\n",
       "    .dataframe thead th {\n",
       "        text-align: right;\n",
       "    }\n",
       "</style>\n",
       "<table border=\"1\" class=\"dataframe\">\n",
       "  <thead>\n",
       "    <tr style=\"text-align: right;\">\n",
       "      <th></th>\n",
       "      <th>Ux</th>\n",
       "      <th>Uy</th>\n",
       "      <th>Con</th>\n",
       "      <th>Detection</th>\n",
       "      <th>Yaw_c</th>\n",
       "    </tr>\n",
       "  </thead>\n",
       "  <tbody>\n",
       "    <tr>\n",
       "      <th>0</th>\n",
       "      <td>1.86090</td>\n",
       "      <td>0.188174</td>\n",
       "      <td>0.003281</td>\n",
       "      <td>1</td>\n",
       "      <td>254.8910</td>\n",
       "    </tr>\n",
       "    <tr>\n",
       "      <th>1</th>\n",
       "      <td>1.85155</td>\n",
       "      <td>0.188182</td>\n",
       "      <td>0.176745</td>\n",
       "      <td>1</td>\n",
       "      <td>187.5780</td>\n",
       "    </tr>\n",
       "    <tr>\n",
       "      <th>2</th>\n",
       "      <td>1.84024</td>\n",
       "      <td>0.188210</td>\n",
       "      <td>0.000000</td>\n",
       "      <td>0</td>\n",
       "      <td>195.6840</td>\n",
       "    </tr>\n",
       "    <tr>\n",
       "      <th>3</th>\n",
       "      <td>1.82735</td>\n",
       "      <td>0.187599</td>\n",
       "      <td>0.000000</td>\n",
       "      <td>0</td>\n",
       "      <td>207.8320</td>\n",
       "    </tr>\n",
       "    <tr>\n",
       "      <th>4</th>\n",
       "      <td>1.81108</td>\n",
       "      <td>0.185014</td>\n",
       "      <td>0.000000</td>\n",
       "      <td>0</td>\n",
       "      <td>213.7260</td>\n",
       "    </tr>\n",
       "    <tr>\n",
       "      <th>...</th>\n",
       "      <td>...</td>\n",
       "      <td>...</td>\n",
       "      <td>...</td>\n",
       "      <td>...</td>\n",
       "      <td>...</td>\n",
       "    </tr>\n",
       "    <tr>\n",
       "      <th>689939</th>\n",
       "      <td>1.17485</td>\n",
       "      <td>-0.029356</td>\n",
       "      <td>0.000000</td>\n",
       "      <td>0</td>\n",
       "      <td>84.1618</td>\n",
       "    </tr>\n",
       "    <tr>\n",
       "      <th>689940</th>\n",
       "      <td>1.16211</td>\n",
       "      <td>-0.021375</td>\n",
       "      <td>0.000000</td>\n",
       "      <td>0</td>\n",
       "      <td>57.0642</td>\n",
       "    </tr>\n",
       "    <tr>\n",
       "      <th>689941</th>\n",
       "      <td>1.14909</td>\n",
       "      <td>-0.014092</td>\n",
       "      <td>0.000000</td>\n",
       "      <td>0</td>\n",
       "      <td>20.7931</td>\n",
       "    </tr>\n",
       "    <tr>\n",
       "      <th>689942</th>\n",
       "      <td>1.13718</td>\n",
       "      <td>-0.008005</td>\n",
       "      <td>0.000000</td>\n",
       "      <td>0</td>\n",
       "      <td>-17.3910</td>\n",
       "    </tr>\n",
       "    <tr>\n",
       "      <th>689943</th>\n",
       "      <td>1.20425</td>\n",
       "      <td>-0.001263</td>\n",
       "      <td>1.664010</td>\n",
       "      <td>1</td>\n",
       "      <td>-109.7950</td>\n",
       "    </tr>\n",
       "  </tbody>\n",
       "</table>\n",
       "<p>689944 rows × 5 columns</p>\n",
       "</div>"
      ],
      "text/plain": [
       "             Ux        Uy       Con  Detection     Yaw_c\n",
       "0       1.86090  0.188174  0.003281          1  254.8910\n",
       "1       1.85155  0.188182  0.176745          1  187.5780\n",
       "2       1.84024  0.188210  0.000000          0  195.6840\n",
       "3       1.82735  0.187599  0.000000          0  207.8320\n",
       "4       1.81108  0.185014  0.000000          0  213.7260\n",
       "...         ...       ...       ...        ...       ...\n",
       "689939  1.17485 -0.029356  0.000000          0   84.1618\n",
       "689940  1.16211 -0.021375  0.000000          0   57.0642\n",
       "689941  1.14909 -0.014092  0.000000          0   20.7931\n",
       "689942  1.13718 -0.008005  0.000000          0  -17.3910\n",
       "689943  1.20425 -0.001263  1.664010          1 -109.7950\n",
       "\n",
       "[689944 rows x 5 columns]"
      ]
     },
     "execution_count": 7,
     "metadata": {},
     "output_type": "execute_result"
    }
   ],
   "source": [
    "df_engineering"
   ]
  },
  {
   "cell_type": "code",
   "execution_count": 8,
   "metadata": {},
   "outputs": [],
   "source": [
    "# convert negative yaw command to positive\n",
    "\n",
    "def change_yaw(x):\n",
    "    if x < 0:\n",
    "        x += 360\n",
    "    return x\n",
    "\n",
    "df_engineering['Yaw_c'] = df_engineering['Yaw_c'].apply(change_yaw)\n",
    "yaw_c1 = df_engineering.pop(\"Yaw_c\")\n",
    "yaw_c2 = yaw_c1 * np.pi / 180\n",
    "\n",
    "df_engineering['Cx'] = np.cos(yaw_c2)\n",
    "df_engineering['Cy'] = np.sin(yaw_c2)"
   ]
  },
  {
   "cell_type": "code",
   "execution_count": 9,
   "metadata": {},
   "outputs": [],
   "source": [
    "num_features = df_engineering.shape[1]"
   ]
  },
  {
   "cell_type": "code",
   "execution_count": 10,
   "metadata": {},
   "outputs": [],
   "source": [
    "num_features = df_engineering.shape[0]"
   ]
  },
  {
   "cell_type": "code",
   "execution_count": 11,
   "metadata": {},
   "outputs": [],
   "source": [
    "mean = df_engineering.mean()\n",
    "std = df_engineering.std()\n",
    "df_engineering = (df_engineering - mean) / std"
   ]
  },
  {
   "cell_type": "code",
   "execution_count": 12,
   "metadata": {},
   "outputs": [],
   "source": [
    "train_df = df_engineering[0:int(len(df_engineering) * 0.8)]\n",
    "val_df = df_engineering[int(len(df_engineering) * 0.8):int(len(df_engineering) * 0.9)]\n",
    "test_df = df_engineering[int(len(df_engineering) * 0.9):]"
   ]
  },
  {
   "cell_type": "code",
   "execution_count": 13,
   "metadata": {},
   "outputs": [],
   "source": [
    "# define the window_generator function\n",
    "class WindowGenerator():\n",
    "    def __init__(self, input_width, label_width, shift,\n",
    "                 train_df, val_df, test_df,\n",
    "                 label_columns=None,\n",
    "                 input_columns=None):\n",
    "        # Store the raw data.\n",
    "        self.train_df = train_df\n",
    "        self.val_df = val_df\n",
    "        self.test_df = test_df\n",
    "\n",
    "        # Work out the label column indices.\n",
    "        self.label_columns = label_columns\n",
    "        self.input_columns = input_columns\n",
    "        if label_columns is not None:\n",
    "            self.label_columns_indices = {name: i for i, name in\n",
    "                                          enumerate(label_columns)}\n",
    "        self.column_indices = {name: i for i, name in\n",
    "                               enumerate(train_df.columns)}\n",
    "\n",
    "        # Work out the window parameters.\n",
    "        self.input_width = input_width\n",
    "        self.label_width = label_width\n",
    "        self.shift = shift\n",
    "\n",
    "        self.total_window_size = input_width + shift\n",
    "\n",
    "        self.input_slice = slice(0, input_width)\n",
    "        self.input_indices = np.arange(self.total_window_size)[self.input_slice]\n",
    "\n",
    "        self.label_start = self.total_window_size - self.label_width\n",
    "        self.labels_slice = slice(self.label_start, None)\n",
    "        self.label_indices = np.arange(self.total_window_size)[self.labels_slice]\n",
    "\n",
    "    def __repr__(self):\n",
    "        return '\\n'.join([\n",
    "            f'Total window size: {self.total_window_size}',\n",
    "            f'Input indices: {self.input_indices}',\n",
    "            f'Input column names: {self.input_columns}',\n",
    "            f'Label indices: {self.label_indices}',\n",
    "            f'Label column name(s): {self.label_columns}'])\n",
    "\n",
    "    def split_window(self, features):\n",
    "        inputs = features[:, self.input_slice, :]\n",
    "        labels = features[:, self.labels_slice, :]\n",
    "        if self.label_columns is not None:\n",
    "            labels = tf.stack(\n",
    "                [labels[:, :, self.column_indices[name]] for name in self.label_columns],\n",
    "                axis=-1)\n",
    "        if self.input_columns is not None:\n",
    "            inputs = tf.stack(\n",
    "                [inputs[:, :, self.column_indices[name]] for name in self.input_columns],\n",
    "                axis=-1)\n",
    "\n",
    "        # Slicing doesn't preserve static shape information, so set the shapes\n",
    "        # manually. This way the `tf.data.Datasets` are easier to inspect.\n",
    "        inputs.set_shape([None, self.input_width, None])\n",
    "        labels.set_shape([None, self.label_width, None])\n",
    "\n",
    "        return inputs, labels\n",
    "\n",
    "    def make_dataset(self, data):\n",
    "        data = np.array(data, dtype=np.float32)\n",
    "        ds = tf.keras.preprocessing.timeseries_dataset_from_array(\n",
    "            data=data,\n",
    "            targets=None,\n",
    "            sequence_length=self.total_window_size,\n",
    "            sequence_stride=1,\n",
    "            shuffle=True,\n",
    "            batch_size=16, )\n",
    "\n",
    "        ds = ds.map(self.split_window)\n",
    "\n",
    "        return ds\n",
    "    \n",
    "    # convert DataFrame into Dataset\n",
    "    @property\n",
    "    def train(self):\n",
    "        return self.make_dataset(self.train_df)\n",
    "\n",
    "    @property\n",
    "    def val(self):\n",
    "        return self.make_dataset(self.val_df)\n",
    "\n",
    "    @property\n",
    "    def test(self):\n",
    "        return self.make_dataset(self.test_df)\n",
    "\n",
    "    @property\n",
    "    # fetch an example batch for plotting\n",
    "    def example(self):\n",
    "        # by default, call example function returns None\n",
    "        result = getattr(self, '_example', None)\n",
    "        if result is None:\n",
    "            # no example batch was found, so get one from the '.train' dataset\n",
    "            # iter: creates an iterator object\n",
    "            result = next(iter(self.train))\n",
    "            # and cache it for the next time\n",
    "            self._example = result\n",
    "\n",
    "        return result\n",
    "\n",
    "    def plot(self, model=None, plot_col='Yaw_e', max_subplots=3):\n",
    "        inputs, labels = self.example\n",
    "        plt.figure(figsize=(12, 8))\n",
    "        # find the index of the column that the user wants to plot\n",
    "        plot_col_index = self.column_indices[plot_col]\n",
    "        # only plots maximal 3 batches of data\n",
    "        max_n = min(max_subplots, len(inputs))\n",
    "        for n in range(max_n):\n",
    "            plt.subplot(3, 1, n + 1)\n",
    "            plt.ylabel(f'{plot_col}[normed]')\n",
    "            plt.plot(self.input_indices, inputs[n, :, plot_col_index],\n",
    "                     label='Inputs', marker='.', zorder=-10)\n",
    "\n",
    "            if self.label_columns:\n",
    "                # get: method returns the value of the item (index) with the specified key (name)\n",
    "                # get(keyname, value=None)\n",
    "                label_col_index = self.label_columns_indices.get(plot_col, None)\n",
    "            else:\n",
    "                label_col_index = plot_col_index\n",
    "\n",
    "            if label_col_index is None:\n",
    "                # with the continue statement, we can stop the current iteration of the for loop\n",
    "                # and continue with the next\n",
    "                continue\n",
    "\n",
    "            plt.scatter(self.label_indices, labels[n, :, label_col_index], edgecolors='k',\n",
    "                        label='Labels', c='#2ca02c', s=64)\n",
    "            if model is not None:\n",
    "                predictions = model(inputs)\n",
    "                plt.scatter(self.label_indices, predictions[n, :, label_col_index],\n",
    "                            marker='X', edgecolors='k', label='Predictions',\n",
    "                            c='#ff7f0e', s=64)\n",
    "            if n == 0:\n",
    "                plt.legend()\n",
    "\n",
    "        plt.xlabel('Time[s]')\n",
    "        plt.show()\n"
   ]
  },
  {
   "cell_type": "code",
   "execution_count": 14,
   "metadata": {},
   "outputs": [],
   "source": [
    "MAX_EPOCHS = 20\n",
    "\n",
    "def compile_and_fit(model, window, patience=2):\n",
    "    early_stopping = tf.keras.callbacks.EarlyStopping(monitor='val_loss',\n",
    "                                                      patience=patience,\n",
    "                                                      mode='min')\n",
    "\n",
    "    model.compile(loss=tf.losses.MeanSquaredError(),\n",
    "                  optimizer=tf.optimizers.Adam(),\n",
    "                  metrics=[tf.metrics.MeanAbsoluteError()])\n",
    "\n",
    "    history = model.fit(window.train, epochs=MAX_EPOCHS,\n",
    "                        validation_data=window.val,\n",
    "                        callbacks=[early_stopping])\n",
    "    return history\n"
   ]
  },
  {
   "cell_type": "code",
   "execution_count": 16,
   "metadata": {},
   "outputs": [],
   "source": [
    "columns = df_engineering.columns\n",
    "label_columns = ['Cx', 'Cy']\n",
    "input_columns = list((Counter(columns) - Counter(label_columns)).elements())\n",
    "num_inputs = len(input_columns)"
   ]
  },
  {
   "cell_type": "code",
   "execution_count": 17,
   "metadata": {},
   "outputs": [],
   "source": [
    "filter_size = 64\n",
    "lstm_model = tf.keras.models.Sequential([\n",
    "        # Shape [batch, time, features] => [batch, time, lstm_units]\n",
    "        tf.keras.layers.LSTM(256, return_sequences=True),\n",
    "        tf.keras.layers.LSTM(256, return_sequences=True),\n",
    "        # tf.keras.layers.LSTM(64, return_sequences=True),\n",
    "        # Shape => [batch, time, features]\n",
    "        tf.keras.layers.Dense(units=filter_size, activation='relu'),\n",
    "        tf.keras.layers.Dense(units=filter_size, activation='relu'),\n",
    "        tf.keras.layers.Dense(units=2)\n",
    "    ])"
   ]
  },
  {
   "cell_type": "code",
   "execution_count": 18,
   "metadata": {},
   "outputs": [],
   "source": [
    "CONV_WIDTH = 6\n",
    "\n",
    "lstm_window = WindowGenerator(\n",
    "    input_width=CONV_WIDTH,\n",
    "    label_width=CONV_WIDTH,\n",
    "    shift=0,\n",
    "    train_df=train_df,\n",
    "    test_df=test_df,\n",
    "    val_df=val_df,\n",
    "    label_columns=label_columns,\n",
    "    input_columns=input_columns\n",
    ")"
   ]
  },
  {
   "cell_type": "code",
   "execution_count": 19,
   "metadata": {},
   "outputs": [
    {
     "name": "stdout",
     "output_type": "stream",
     "text": [
      "Epoch 1/20\n",
      "34497/34497 [==============================] - 983s 28ms/step - loss: 0.9330 - mean_absolute_error: 0.8510 - val_loss: 0.9350 - val_mean_absolute_error: 0.8512\n",
      "Epoch 2/20\n",
      "34497/34497 [==============================] - 997s 29ms/step - loss: 0.9195 - mean_absolute_error: 0.8413 - val_loss: 0.9158 - val_mean_absolute_error: 0.8375\n",
      "Epoch 3/20\n",
      "34497/34497 [==============================] - 1007s 29ms/step - loss: 0.8948 - mean_absolute_error: 0.8243 - val_loss: 0.9024 - val_mean_absolute_error: 0.8267\n",
      "Epoch 4/20\n",
      "34497/34497 [==============================] - 1021s 30ms/step - loss: 0.8835 - mean_absolute_error: 0.8166 - val_loss: 0.8894 - val_mean_absolute_error: 0.8198\n",
      "Epoch 5/20\n",
      "34497/34497 [==============================] - 964s 28ms/step - loss: 0.8750 - mean_absolute_error: 0.8109 - val_loss: 0.8854 - val_mean_absolute_error: 0.8160\n",
      "Epoch 6/20\n",
      "34497/34497 [==============================] - 994s 29ms/step - loss: 0.8690 - mean_absolute_error: 0.8068 - val_loss: 0.8828 - val_mean_absolute_error: 0.8134\n",
      "Epoch 7/20\n",
      "34497/34497 [==============================] - 905s 26ms/step - loss: 0.8644 - mean_absolute_error: 0.8036 - val_loss: 0.8821 - val_mean_absolute_error: 0.8122\n",
      "Epoch 8/20\n",
      "34497/34497 [==============================] - 911s 26ms/step - loss: 0.8605 - mean_absolute_error: 0.8009 - val_loss: 0.8796 - val_mean_absolute_error: 0.8113\n",
      "Epoch 9/20\n",
      "34497/34497 [==============================] - 1030s 30ms/step - loss: 0.8574 - mean_absolute_error: 0.7987 - val_loss: 0.8812 - val_mean_absolute_error: 0.8124\n",
      "Epoch 10/20\n",
      "34497/34497 [==============================] - 972s 28ms/step - loss: 0.8545 - mean_absolute_error: 0.7967 - val_loss: 0.8784 - val_mean_absolute_error: 0.8087\n",
      "Epoch 11/20\n",
      "34497/34497 [==============================] - 988s 29ms/step - loss: 0.8519 - mean_absolute_error: 0.7948 - val_loss: 0.8763 - val_mean_absolute_error: 0.8095\n",
      "Epoch 12/20\n",
      "34497/34497 [==============================] - 989s 29ms/step - loss: 0.8495 - mean_absolute_error: 0.7931 - val_loss: 0.8741 - val_mean_absolute_error: 0.8053\n",
      "Epoch 13/20\n",
      "34497/34497 [==============================] - 1011s 29ms/step - loss: 0.8474 - mean_absolute_error: 0.7916 - val_loss: 0.8727 - val_mean_absolute_error: 0.8054\n",
      "Epoch 14/20\n",
      "34497/34497 [==============================] - 917s 27ms/step - loss: 0.8453 - mean_absolute_error: 0.7901 - val_loss: 0.8753 - val_mean_absolute_error: 0.8065\n",
      "Epoch 15/20\n",
      "34497/34497 [==============================] - 924s 27ms/step - loss: 0.8432 - mean_absolute_error: 0.7886 - val_loss: 0.8775 - val_mean_absolute_error: 0.8069\n",
      "4312/4312 [==============================] - 29s 7ms/step - loss: 0.8707 - mean_absolute_error: 0.8036\n",
      "[0.8706560730934143, 0.8036428093910217] 1.674298882484436\n"
     ]
    }
   ],
   "source": [
    "history = compile_and_fit(lstm_model, lstm_window)\n",
    "\n",
    "val_performance = lstm_model.evaluate(lstm_window.test)\n",
    "print(val_performance, sum(val_performance))"
   ]
  },
  {
   "cell_type": "code",
   "execution_count": 20,
   "metadata": {},
   "outputs": [],
   "source": [
    "model_selection = 'RNN'\n",
    "dataset = 'engineering'\n",
    "model_path = \"C:/Users/hp-pc/Desktop/GRP/{}/sim_data/{}/\".format(model_selection, dataset)\n",
    "mean_path = 'C:/Users/hp-pc/Desktop/GRP/{}/sim_data/{}/'.format(model_selection, dataset)\n",
    "\n",
    "lstm_model.save(model_path+'rnn_nocon.h5',\n",
    "                include_optimizer=False)\n",
    "# save train_mean and train_std\n",
    "np.savetxt(mean_path+'mean.txt', mean)\n",
    "np.savetxt(mean_path+'std.txt', std)"
   ]
  },
  {
   "cell_type": "markdown",
   "metadata": {},
   "source": [
    "TransferLearning"
   ]
  },
  {
   "cell_type": "code",
   "execution_count": 21,
   "metadata": {},
   "outputs": [],
   "source": [
    "import matplotlib.pyplot as plt\n",
    "import numpy as np\n",
    "import os\n",
    "import tensorflow as tf"
   ]
  },
  {
   "cell_type": "code",
   "execution_count": 22,
   "metadata": {},
   "outputs": [],
   "source": [
    "dataset_path2 = \"C:\\\\Users\\\\hp-pc\\\\Desktop\\\\GRP\\\\real_data\\\\engineering\\\\engineering_total\\\\engineering_total.csv\""
   ]
  },
  {
   "cell_type": "code",
   "execution_count": 23,
   "metadata": {},
   "outputs": [],
   "source": [
    "df_engineering_real = pd.read_csv(dataset_path2, index_col=False)"
   ]
  },
  {
   "cell_type": "markdown",
   "metadata": {},
   "source": [
    "Preprocessing & Cleansing"
   ]
  },
  {
   "cell_type": "code",
   "execution_count": 24,
   "metadata": {},
   "outputs": [],
   "source": [
    "df_engineering_real = df_engineering_real.dropna()"
   ]
  },
  {
   "cell_type": "code",
   "execution_count": 25,
   "metadata": {},
   "outputs": [
    {
     "data": {
      "text/plain": [
       "0       -46.419603\n",
       "1       -47.866942\n",
       "2       -48.417687\n",
       "3       -41.905376\n",
       "4       -28.993614\n",
       "           ...    \n",
       "14766   -12.790343\n",
       "14767   -12.881078\n",
       "14768   -12.963495\n",
       "14769   -13.099421\n",
       "14770   -12.929873\n",
       "Name: yaw_error, Length: 14771, dtype: float64"
      ]
     },
     "execution_count": 25,
     "metadata": {},
     "output_type": "execute_result"
    }
   ],
   "source": [
    "df_engineering_real.pop('time')\n",
    "df_engineering_real.pop('posx')\n",
    "df_engineering_real.pop('posy')\n",
    "df_engineering_real.pop('yaw')\n",
    "df_engineering_real.pop('yaw_error')"
   ]
  },
  {
   "cell_type": "code",
   "execution_count": 26,
   "metadata": {},
   "outputs": [],
   "source": [
    "def change_yaw(x):\n",
    "    if x < 0:\n",
    "        x += 360\n",
    "    return x\n",
    "\n",
    "df_engineering_real['yaw_c'] = df_engineering_real['yaw_c'].apply(change_yaw)\n",
    "yaw_c_real = df_engineering_real.pop(\"yaw_c\")\n",
    "yaw_c_real = yaw_c_real * np.pi / 180 # deg to rad\n",
    "\n",
    "df_engineering_real['Cx'] = np.cos(yaw_c_real)\n",
    "df_engineering_real['Cy'] = np.sin(yaw_c_real)"
   ]
  },
  {
   "cell_type": "code",
   "execution_count": 27,
   "metadata": {},
   "outputs": [],
   "source": [
    "def change_winddir(x):\n",
    "    if x < 0:\n",
    "        x += 360\n",
    "    return x"
   ]
  },
  {
   "cell_type": "code",
   "execution_count": 28,
   "metadata": {},
   "outputs": [],
   "source": [
    "df_engineering_real['winddir'] = df_engineering_real['winddir'].apply(change_winddir)\n",
    "winddir = df_engineering_real.pop(\"winddir\")\n",
    "winddir = winddir * np.pi / 180\n",
    "\n",
    "df_engineering_real['windvx'] = df_engineering_real['windv']*np.cos(winddir)\n",
    "df_engineering_real['windvy'] = df_engineering_real['windv']*np.sin(winddir)\n",
    "winddir = df_engineering_real.pop(\"windv\")"
   ]
  },
  {
   "cell_type": "code",
   "execution_count": 29,
   "metadata": {},
   "outputs": [],
   "source": [
    "winddir = df_engineering_real.pop(\"targetx\")\n",
    "winddir = df_engineering_real.pop(\"targety\")"
   ]
  },
  {
   "cell_type": "code",
   "execution_count": 30,
   "metadata": {},
   "outputs": [],
   "source": [
    "df_engineering_real = df_engineering_real[['windvx', 'windvy', 'con', 'detection', 'Cx', 'Cy']]"
   ]
  },
  {
   "cell_type": "code",
   "execution_count": 31,
   "metadata": {},
   "outputs": [],
   "source": [
    "mean = df_engineering_real.mean()\n",
    "std = df_engineering_real.std()\n",
    "df_engineering_real = (df_engineering_real - mean) / std"
   ]
  },
  {
   "cell_type": "code",
   "execution_count": 32,
   "metadata": {},
   "outputs": [],
   "source": [
    "train_df_real = df_engineering_real[0:int(len(df_engineering_real) * 0.8)]\n",
    "val_df_real = df_engineering_real[int(len(df_engineering_real) * 0.8):int(len(df_engineering_real) * 0.9)]\n",
    "test_df_real = df_engineering_real[int(len(df_engineering_real) * 0.9):]"
   ]
  },
  {
   "cell_type": "code",
   "execution_count": 33,
   "metadata": {},
   "outputs": [],
   "source": [
    "lstm_model.trainable = False"
   ]
  },
  {
   "cell_type": "code",
   "execution_count": 34,
   "metadata": {},
   "outputs": [
    {
     "name": "stdout",
     "output_type": "stream",
     "text": [
      "Model: \"sequential\"\n",
      "_________________________________________________________________\n",
      " Layer (type)                Output Shape              Param #   \n",
      "=================================================================\n",
      " lstm (LSTM)                 (None, 6, 256)            267264    \n",
      "                                                                 \n",
      " lstm_1 (LSTM)               (None, 6, 256)            525312    \n",
      "                                                                 \n",
      " dense (Dense)               (None, 6, 64)             16448     \n",
      "                                                                 \n",
      " dense_1 (Dense)             (None, 6, 64)             4160      \n",
      "                                                                 \n",
      " dense_2 (Dense)             (None, 6, 2)              130       \n",
      "                                                                 \n",
      "=================================================================\n",
      "Total params: 813,314\n",
      "Trainable params: 0\n",
      "Non-trainable params: 813,314\n",
      "_________________________________________________________________\n"
     ]
    }
   ],
   "source": [
    "# Let's take a look at the base model architecture\n",
    "lstm_model.summary()"
   ]
  },
  {
   "cell_type": "code",
   "execution_count": 36,
   "metadata": {},
   "outputs": [],
   "source": [
    "prediction_layer = tf.keras.layers.Dense(2)\n",
    "inputs = tf.keras.Input(shape=(6, 4))\n",
    "#inputs=tf.Tensor(shape=(None, 6), dtype=tf.float32)\n",
    "x = lstm_model(inputs, training=False)\n",
    "#x = global_average_layer(x)\n",
    "#x = tf.keras.layers.Dropout(0.2)(x)\n",
    "outputs = prediction_layer(x)\n",
    "model = tf.keras.Model(inputs, outputs)"
   ]
  },
  {
   "cell_type": "code",
   "execution_count": 37,
   "metadata": {},
   "outputs": [],
   "source": [
    "model.compile(optimizer='rmsprop',\n",
    "        loss= 'mae',\n",
    "         metrics=['acc'])"
   ]
  },
  {
   "cell_type": "code",
   "execution_count": 38,
   "metadata": {
    "scrolled": true
   },
   "outputs": [
    {
     "name": "stdout",
     "output_type": "stream",
     "text": [
      "Model: \"model\"\n",
      "_________________________________________________________________\n",
      " Layer (type)                Output Shape              Param #   \n",
      "=================================================================\n",
      " input_2 (InputLayer)        [(None, 6, 4)]            0         \n",
      "                                                                 \n",
      " sequential (Sequential)     (None, 6, 2)              813314    \n",
      "                                                                 \n",
      " dense_4 (Dense)             (None, 6, 2)              6         \n",
      "                                                                 \n",
      "=================================================================\n",
      "Total params: 813,320\n",
      "Trainable params: 6\n",
      "Non-trainable params: 813,314\n",
      "_________________________________________________________________\n"
     ]
    }
   ],
   "source": [
    "model.summary()"
   ]
  },
  {
   "cell_type": "code",
   "execution_count": 39,
   "metadata": {},
   "outputs": [
    {
     "name": "stdout",
     "output_type": "stream",
     "text": [
      "Epoch 1/20\n",
      "34497/34497 [==============================] - 283s 8ms/step - loss: 0.8519 - mean_absolute_error: 0.7949 - val_loss: 0.8744 - val_mean_absolute_error: 0.8054\n",
      "Epoch 2/20\n",
      "34497/34497 [==============================] - 278s 8ms/step - loss: 0.8444 - mean_absolute_error: 0.7900 - val_loss: 0.8744 - val_mean_absolute_error: 0.8055\n",
      "Epoch 3/20\n",
      "34497/34497 [==============================] - 279s 8ms/step - loss: 0.8444 - mean_absolute_error: 0.7900 - val_loss: 0.8744 - val_mean_absolute_error: 0.8054\n",
      "Epoch 4/20\n",
      "34497/34497 [==============================] - 280s 8ms/step - loss: 0.8444 - mean_absolute_error: 0.7900 - val_loss: 0.8744 - val_mean_absolute_error: 0.8054\n",
      "Epoch 5/20\n",
      "34497/34497 [==============================] - 282s 8ms/step - loss: 0.8444 - mean_absolute_error: 0.7900 - val_loss: 0.8744 - val_mean_absolute_error: 0.8054\n"
     ]
    }
   ],
   "source": [
    "history = compile_and_fit(model, lstm_window)"
   ]
  },
  {
   "cell_type": "code",
   "execution_count": 41,
   "metadata": {},
   "outputs": [
    {
     "ename": "NameError",
     "evalue": "name 'conv_model' is not defined",
     "output_type": "error",
     "traceback": [
      "\u001b[1;31m---------------------------------------------------------------------------\u001b[0m",
      "\u001b[1;31mNameError\u001b[0m                                 Traceback (most recent call last)",
      "\u001b[1;32m<ipython-input-41-c6e44c434347>\u001b[0m in \u001b[0;36m<module>\u001b[1;34m\u001b[0m\n\u001b[0;32m      1\u001b[0m \u001b[0mval_performance\u001b[0m \u001b[1;33m=\u001b[0m \u001b[1;33m{\u001b[0m\u001b[1;33m}\u001b[0m\u001b[1;33m\u001b[0m\u001b[1;33m\u001b[0m\u001b[0m\n\u001b[0;32m      2\u001b[0m \u001b[0mperformance\u001b[0m \u001b[1;33m=\u001b[0m \u001b[1;33m{\u001b[0m\u001b[1;33m}\u001b[0m\u001b[1;33m\u001b[0m\u001b[1;33m\u001b[0m\u001b[0m\n\u001b[1;32m----> 3\u001b[1;33m \u001b[0mval_performance\u001b[0m\u001b[1;33m[\u001b[0m\u001b[1;34m'Conv'\u001b[0m\u001b[1;33m]\u001b[0m \u001b[1;33m=\u001b[0m \u001b[0mconv_model\u001b[0m\u001b[1;33m.\u001b[0m\u001b[0mevaluate\u001b[0m\u001b[1;33m(\u001b[0m\u001b[0mconv_window\u001b[0m\u001b[1;33m.\u001b[0m\u001b[0mval\u001b[0m\u001b[1;33m)\u001b[0m\u001b[1;33m\u001b[0m\u001b[1;33m\u001b[0m\u001b[0m\n\u001b[0m",
      "\u001b[1;31mNameError\u001b[0m: name 'conv_model' is not defined"
     ]
    }
   ],
   "source": [
    "val_performance = {}\n",
    "performance = {}\n",
    "val_performance['Conv'] = conv_model.evaluate(conv_window.val)"
   ]
  },
  {
   "cell_type": "code",
   "execution_count": 42,
   "metadata": {},
   "outputs": [],
   "source": [
    "model.save('C:\\\\Users\\\\hp-pc\\\\Desktop\\\\GRP\\\\Real-world test\\\\rnn_engineering_{}.h5'.format(CONV_WIDTH), include_optimizer=False)"
   ]
  },
  {
   "cell_type": "code",
   "execution_count": 43,
   "metadata": {},
   "outputs": [],
   "source": [
    "acc = history.history['mean_absolute_error']\n",
    "val_acc = history.history['val_mean_absolute_error']\n",
    "\n",
    "loss = history.history['loss']\n",
    "val_loss = history.history['val_loss']"
   ]
  },
  {
   "cell_type": "code",
   "execution_count": 46,
   "metadata": {},
   "outputs": [
    {
     "data": {
      "image/png": "[encoded data removed]",
      "text/plain": [
       "<Figure size 576x576 with 2 Axes>"
      ]
     },
     "metadata": {
      "needs_background": "light"
     },
     "output_type": "display_data"
    }
   ],
   "source": [
    "plt.figure(figsize=(8, 8))\n",
    "plt.subplot(2, 1, 1)\n",
    "plt.plot(acc, label='Training')\n",
    "plt.plot(val_acc, label='Validation')\n",
    "plt.legend(loc='upper right')\n",
    "plt.ylabel('Mean Absolute Error')\n",
    "plt.ylim([min(plt.ylim()),1])\n",
    "plt.title('Training and Validation metrics \"transfer learning\"')\n",
    "\n",
    "plt.subplot(2, 1, 2)\n",
    "plt.plot(loss, label='Training Loss')\n",
    "plt.plot(val_loss, label='Validation Loss')\n",
    "plt.legend(loc='lower right')\n",
    "plt.ylabel('Mean Squared Error')\n",
    "plt.ylim([0,1.0])\n",
    "plt.title('Training and Validation Loss \"transfer learning\"')\n",
    "plt.xlabel('epoch')\n",
    "plt.savefig(\"TL_engineering_rnn.jpg\")\n",
    "plt.show()"
   ]
  },
  {
   "cell_type": "markdown",
   "metadata": {},
   "source": [
    "Fine_Tuning"
   ]
  },
  {
   "cell_type": "code",
   "execution_count": 561,
   "metadata": {},
   "outputs": [],
   "source": [
    "conv_model.trainable = True"
   ]
  },
  {
   "cell_type": "code",
   "execution_count": 562,
   "metadata": {},
   "outputs": [
    {
     "data": {
      "text/plain": [
       "6"
      ]
     },
     "execution_count": 562,
     "metadata": {},
     "output_type": "execute_result"
    }
   ],
   "source": [
    "len(conv_model.layers)"
   ]
  },
  {
   "cell_type": "code",
   "execution_count": 563,
   "metadata": {},
   "outputs": [
    {
     "name": "stdout",
     "output_type": "stream",
     "text": [
      "Number of layers in the base model:  6\n"
     ]
    }
   ],
   "source": [
    "# Let's take a look to see how many layers are in the base model\n",
    "print(\"Number of layers in the base model: \", len(conv_model.layers))\n",
    "\n",
    "# Fine-tune from this layer onwards\n",
    "fine_tune_at = 2\n",
    "\n",
    "# Freeze all the layers before the `fine_tune_at` layer\n",
    "for layer in conv_model.layers[:fine_tune_at]:\n",
    "  layer.trainable = False"
   ]
  },
  {
   "cell_type": "code",
   "execution_count": 564,
   "metadata": {},
   "outputs": [],
   "source": [
    "base_learning_rate = 0.0001\n",
    "model.compile(optimizer=tf.keras.optimizers.Adam(learning_rate=base_learning_rate),\n",
    "              loss=tf.keras.losses.BinaryCrossentropy(from_logits=True),\n",
    "              metrics=['accuracy'])"
   ]
  },
  {
   "cell_type": "code",
   "execution_count": 565,
   "metadata": {},
   "outputs": [],
   "source": [
    "model.compile(loss=tf.keras.losses.BinaryCrossentropy(from_logits=True),\n",
    "              optimizer = tf.keras.optimizers.RMSprop(learning_rate=base_learning_rate/10),\n",
    "              metrics=['accuracy'])"
   ]
  }
 ],
 "metadata": {
  "kernelspec": {
   "display_name": "Python 3",
   "language": "python",
   "name": "python3"
  },
  "language_info": {
   "codemirror_mode": {
    "name": "ipython",
    "version": 3
   },
   "file_extension": ".py",
   "mimetype": "text/x-python",
   "name": "python",
   "nbconvert_exporter": "python",
   "pygments_lexer": "ipython3",
   "version": "3.8.5"
  }
 },
 "nbformat": 4,
 "nbformat_minor": 4
}
