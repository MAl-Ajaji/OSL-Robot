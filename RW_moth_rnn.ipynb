{
 "cells": [
  {
   "cell_type": "code",
   "execution_count": 42,
   "metadata": {},
   "outputs": [],
   "source": [
    "import pandas as pd\n",
    "import numpy as np\n",
    "import matplotlib.pyplot as plt\n",
    "import tensorflow as tf\n",
    "import os\n",
    "from collections import Counter\n",
    "import pickle"
   ]
  },
  {
   "cell_type": "code",
   "execution_count": 43,
   "metadata": {},
   "outputs": [],
   "source": [
    "RW_dataset_path = \"C:\\\\Users\\\\hp-pc\\\\Desktop\\\\GRP\\\\real_data\\\\moth\\\\moth_total\\\\moth_total.csv\""
   ]
  },
  {
   "cell_type": "code",
   "execution_count": 44,
   "metadata": {},
   "outputs": [],
   "source": [
    "df_moth_RW = pd.read_csv(RW_dataset_path, index_col=False)"
   ]
  },
  {
   "cell_type": "code",
   "execution_count": 45,
   "metadata": {},
   "outputs": [
    {
     "data": {
      "text/html": [
       "<div>\n",
       "<style scoped>\n",
       "    .dataframe tbody tr th:only-of-type {\n",
       "        vertical-align: middle;\n",
       "    }\n",
       "\n",
       "    .dataframe tbody tr th {\n",
       "        vertical-align: top;\n",
       "    }\n",
       "\n",
       "    .dataframe thead th {\n",
       "        text-align: right;\n",
       "    }\n",
       "</style>\n",
       "<table border=\"1\" class=\"dataframe\">\n",
       "  <thead>\n",
       "    <tr style=\"text-align: right;\">\n",
       "      <th></th>\n",
       "      <th>time</th>\n",
       "      <th>posx</th>\n",
       "      <th>posy</th>\n",
       "      <th>con</th>\n",
       "      <th>detection</th>\n",
       "      <th>windv</th>\n",
       "      <th>winddir</th>\n",
       "      <th>yaw_c</th>\n",
       "      <th>yaw</th>\n",
       "      <th>yaw_error</th>\n",
       "    </tr>\n",
       "  </thead>\n",
       "  <tbody>\n",
       "    <tr>\n",
       "      <th>0</th>\n",
       "      <td>1</td>\n",
       "      <td>-1.133428</td>\n",
       "      <td>-0.087199</td>\n",
       "      <td>0.0</td>\n",
       "      <td>0</td>\n",
       "      <td>0.00</td>\n",
       "      <td>180.000000</td>\n",
       "      <td>20.000000</td>\n",
       "      <td>84.979655</td>\n",
       "      <td>-64.979655</td>\n",
       "    </tr>\n",
       "    <tr>\n",
       "      <th>1</th>\n",
       "      <td>2</td>\n",
       "      <td>-1.133499</td>\n",
       "      <td>-0.087052</td>\n",
       "      <td>543.0</td>\n",
       "      <td>1</td>\n",
       "      <td>0.41</td>\n",
       "      <td>-124.018084</td>\n",
       "      <td>20.000000</td>\n",
       "      <td>84.981916</td>\n",
       "      <td>-64.981916</td>\n",
       "    </tr>\n",
       "    <tr>\n",
       "      <th>2</th>\n",
       "      <td>3</td>\n",
       "      <td>-1.133539</td>\n",
       "      <td>-0.087095</td>\n",
       "      <td>581.0</td>\n",
       "      <td>1</td>\n",
       "      <td>0.45</td>\n",
       "      <td>-120.025794</td>\n",
       "      <td>59.974206</td>\n",
       "      <td>84.974206</td>\n",
       "      <td>-25.000000</td>\n",
       "    </tr>\n",
       "    <tr>\n",
       "      <th>3</th>\n",
       "      <td>4</td>\n",
       "      <td>-1.130452</td>\n",
       "      <td>-0.079646</td>\n",
       "      <td>529.0</td>\n",
       "      <td>1</td>\n",
       "      <td>0.81</td>\n",
       "      <td>-108.487564</td>\n",
       "      <td>71.512436</td>\n",
       "      <td>80.512436</td>\n",
       "      <td>-9.000000</td>\n",
       "    </tr>\n",
       "    <tr>\n",
       "      <th>4</th>\n",
       "      <td>5</td>\n",
       "      <td>-1.108861</td>\n",
       "      <td>-0.040860</td>\n",
       "      <td>576.0</td>\n",
       "      <td>1</td>\n",
       "      <td>0.73</td>\n",
       "      <td>-114.110007</td>\n",
       "      <td>65.889992</td>\n",
       "      <td>69.889992</td>\n",
       "      <td>-4.000000</td>\n",
       "    </tr>\n",
       "    <tr>\n",
       "      <th>...</th>\n",
       "      <td>...</td>\n",
       "      <td>...</td>\n",
       "      <td>...</td>\n",
       "      <td>...</td>\n",
       "      <td>...</td>\n",
       "      <td>...</td>\n",
       "      <td>...</td>\n",
       "      <td>...</td>\n",
       "      <td>...</td>\n",
       "      <td>...</td>\n",
       "    </tr>\n",
       "    <tr>\n",
       "      <th>13694</th>\n",
       "      <td>68</td>\n",
       "      <td>-0.680270</td>\n",
       "      <td>-0.725390</td>\n",
       "      <td>642.0</td>\n",
       "      <td>0</td>\n",
       "      <td>1.63</td>\n",
       "      <td>126.753343</td>\n",
       "      <td>-67.665235</td>\n",
       "      <td>-74.246657</td>\n",
       "      <td>-6.581422</td>\n",
       "    </tr>\n",
       "    <tr>\n",
       "      <th>13695</th>\n",
       "      <td>69</td>\n",
       "      <td>-0.667918</td>\n",
       "      <td>-0.760249</td>\n",
       "      <td>652.0</td>\n",
       "      <td>0</td>\n",
       "      <td>2.38</td>\n",
       "      <td>117.149818</td>\n",
       "      <td>-67.665235</td>\n",
       "      <td>-73.850182</td>\n",
       "      <td>-6.184947</td>\n",
       "    </tr>\n",
       "    <tr>\n",
       "      <th>13696</th>\n",
       "      <td>70</td>\n",
       "      <td>-0.653904</td>\n",
       "      <td>-0.798121</td>\n",
       "      <td>635.0</td>\n",
       "      <td>0</td>\n",
       "      <td>1.49</td>\n",
       "      <td>113.611592</td>\n",
       "      <td>-67.665235</td>\n",
       "      <td>-73.388408</td>\n",
       "      <td>-5.723173</td>\n",
       "    </tr>\n",
       "    <tr>\n",
       "      <th>13697</th>\n",
       "      <td>71</td>\n",
       "      <td>-0.642391</td>\n",
       "      <td>-0.828852</td>\n",
       "      <td>627.0</td>\n",
       "      <td>0</td>\n",
       "      <td>1.50</td>\n",
       "      <td>99.991336</td>\n",
       "      <td>-67.665235</td>\n",
       "      <td>-73.008664</td>\n",
       "      <td>-5.343430</td>\n",
       "    </tr>\n",
       "    <tr>\n",
       "      <th>13698</th>\n",
       "      <td>72</td>\n",
       "      <td>-0.629083</td>\n",
       "      <td>-0.865582</td>\n",
       "      <td>619.0</td>\n",
       "      <td>0</td>\n",
       "      <td>2.03</td>\n",
       "      <td>119.271545</td>\n",
       "      <td>-67.665235</td>\n",
       "      <td>-72.728455</td>\n",
       "      <td>-5.063220</td>\n",
       "    </tr>\n",
       "  </tbody>\n",
       "</table>\n",
       "<p>13699 rows × 10 columns</p>\n",
       "</div>"
      ],
      "text/plain": [
       "       time      posx      posy    con  detection  windv     winddir  \\\n",
       "0         1 -1.133428 -0.087199    0.0          0   0.00  180.000000   \n",
       "1         2 -1.133499 -0.087052  543.0          1   0.41 -124.018084   \n",
       "2         3 -1.133539 -0.087095  581.0          1   0.45 -120.025794   \n",
       "3         4 -1.130452 -0.079646  529.0          1   0.81 -108.487564   \n",
       "4         5 -1.108861 -0.040860  576.0          1   0.73 -114.110007   \n",
       "...     ...       ...       ...    ...        ...    ...         ...   \n",
       "13694    68 -0.680270 -0.725390  642.0          0   1.63  126.753343   \n",
       "13695    69 -0.667918 -0.760249  652.0          0   2.38  117.149818   \n",
       "13696    70 -0.653904 -0.798121  635.0          0   1.49  113.611592   \n",
       "13697    71 -0.642391 -0.828852  627.0          0   1.50   99.991336   \n",
       "13698    72 -0.629083 -0.865582  619.0          0   2.03  119.271545   \n",
       "\n",
       "           yaw_c        yaw  yaw_error  \n",
       "0      20.000000  84.979655 -64.979655  \n",
       "1      20.000000  84.981916 -64.981916  \n",
       "2      59.974206  84.974206 -25.000000  \n",
       "3      71.512436  80.512436  -9.000000  \n",
       "4      65.889992  69.889992  -4.000000  \n",
       "...          ...        ...        ...  \n",
       "13694 -67.665235 -74.246657  -6.581422  \n",
       "13695 -67.665235 -73.850182  -6.184947  \n",
       "13696 -67.665235 -73.388408  -5.723173  \n",
       "13697 -67.665235 -73.008664  -5.343430  \n",
       "13698 -67.665235 -72.728455  -5.063220  \n",
       "\n",
       "[13699 rows x 10 columns]"
      ]
     },
     "execution_count": 45,
     "metadata": {},
     "output_type": "execute_result"
    }
   ],
   "source": [
    "df_moth_RW"
   ]
  },
  {
   "cell_type": "code",
   "execution_count": 46,
   "metadata": {},
   "outputs": [],
   "source": [
    "df_moth_RW = df_moth_RW.dropna()"
   ]
  },
  {
   "cell_type": "code",
   "execution_count": 5,
   "metadata": {},
   "outputs": [
    {
     "data": {
      "text/plain": [
       "0       -64.979655\n",
       "1       -64.981916\n",
       "2       -25.000000\n",
       "3        -9.000000\n",
       "4        -4.000000\n",
       "           ...    \n",
       "13694    -6.581422\n",
       "13695    -6.184947\n",
       "13696    -5.723173\n",
       "13697    -5.343430\n",
       "13698    -5.063220\n",
       "Name: yaw_error, Length: 13699, dtype: float64"
      ]
     },
     "execution_count": 5,
     "metadata": {},
     "output_type": "execute_result"
    }
   ],
   "source": [
    "df_moth_RW.pop('time')\n",
    "df_moth_RW.pop('posx')\n",
    "df_moth_RW.pop('posy')\n",
    "df_moth_RW.pop('yaw')\n",
    "df_moth_RW.pop('yaw_error')"
   ]
  },
  {
   "cell_type": "code",
   "execution_count": 6,
   "metadata": {},
   "outputs": [],
   "source": [
    "def change_yaw(x):\n",
    "    if x < 0:\n",
    "        x += 360\n",
    "    return x\n",
    "df_moth_RW['yaw_c'] = df_moth_RW['yaw_c'].apply(change_yaw)\n",
    "yaw_c_RW = df_moth_RW.pop(\"yaw_c\")\n",
    "yaw_c_RW = yaw_c_RW * np.pi / 180 # deg to rad\n",
    "\n",
    "df_moth_RW['Cx'] = np.cos(yaw_c_RW)\n",
    "df_moth_RW['Cy'] = np.sin(yaw_c_RW)"
   ]
  },
  {
   "cell_type": "code",
   "execution_count": 7,
   "metadata": {},
   "outputs": [],
   "source": [
    "def change_winddir(x):\n",
    "    if x < 0:\n",
    "        x += 360\n",
    "    return x\n",
    "\n",
    "df_moth_RW['winddir'] = df_moth_RW['winddir'].apply(change_winddir)\n",
    "winddir = df_moth_RW.pop(\"winddir\")\n",
    "winddir = winddir * np.pi / 180\n",
    "\n",
    "df_moth_RW['windvx'] = df_moth_RW['windv']*np.cos(winddir)\n",
    "df_moth_RW['windvy'] = df_moth_RW['windv']*np.sin(winddir)"
   ]
  },
  {
   "cell_type": "code",
   "execution_count": 8,
   "metadata": {},
   "outputs": [],
   "source": [
    "winddir = df_moth_RW.pop(\"windv\")"
   ]
  },
  {
   "cell_type": "code",
   "execution_count": 9,
   "metadata": {},
   "outputs": [],
   "source": [
    "df_moth_RW = df_moth_RW[['windvx', 'windvy', 'con', 'detection', 'Cx', 'Cy']]"
   ]
  },
  {
   "cell_type": "code",
   "execution_count": 10,
   "metadata": {},
   "outputs": [],
   "source": [
    "mean = df_moth_RW.mean()\n",
    "std = df_moth_RW.std()\n",
    "df_moth_RW = (df_moth_RW - mean) / std"
   ]
  },
  {
   "cell_type": "code",
   "execution_count": 18,
   "metadata": {},
   "outputs": [],
   "source": [
    "train_df = df_moth_RW[0:int(len(df_moth_RW) * 0.8)]\n",
    "val_df = df_moth_RW[int(len(df_moth_RW) * 0.8):int(len(df_moth_RW) * 0.9)]\n",
    "test_df = df_moth_RW[int(len(df_moth_RW) * 0.9):]"
   ]
  },
  {
   "cell_type": "code",
   "execution_count": 19,
   "metadata": {},
   "outputs": [],
   "source": [
    "# define the window_generator function\n",
    "class WindowGenerator():\n",
    "    def __init__(self, input_width, label_width, shift,\n",
    "                 train_df, val_df, test_df,\n",
    "                 label_columns=None,\n",
    "                 input_columns=None):\n",
    "        # Store the raw data.\n",
    "        self.train_df = train_df\n",
    "        self.val_df = val_df\n",
    "        self.test_df = test_df\n",
    "\n",
    "        # Work out the label column indices.\n",
    "        self.label_columns = label_columns\n",
    "        self.input_columns = input_columns\n",
    "        if label_columns is not None:\n",
    "            self.label_columns_indices = {name: i for i, name in\n",
    "                                          enumerate(label_columns)}\n",
    "        self.column_indices = {name: i for i, name in\n",
    "                               enumerate(train_df.columns)}\n",
    "\n",
    "        # Work out the window parameters.\n",
    "        self.input_width = input_width\n",
    "        self.label_width = label_width\n",
    "        self.shift = shift\n",
    "\n",
    "        self.total_window_size = input_width + shift\n",
    "\n",
    "        self.input_slice = slice(0, input_width)\n",
    "        self.input_indices = np.arange(self.total_window_size)[self.input_slice]\n",
    "\n",
    "        self.label_start = self.total_window_size - self.label_width\n",
    "        self.labels_slice = slice(self.label_start, None)\n",
    "        self.label_indices = np.arange(self.total_window_size)[self.labels_slice]\n",
    "\n",
    "    def __repr__(self):\n",
    "        return '\\n'.join([\n",
    "            f'Total window size: {self.total_window_size}',\n",
    "            f'Input indices: {self.input_indices}',\n",
    "            f'Input column names: {self.input_columns}',\n",
    "            f'Label indices: {self.label_indices}',\n",
    "            f'Label column name(s): {self.label_columns}'])\n",
    "\n",
    "    def split_window(self, features):\n",
    "        inputs = features[:, self.input_slice, :]\n",
    "        labels = features[:, self.labels_slice, :]\n",
    "        if self.label_columns is not None:\n",
    "            labels = tf.stack(\n",
    "                [labels[:, :, self.column_indices[name]] for name in self.label_columns],\n",
    "                axis=-1)\n",
    "        if self.input_columns is not None:\n",
    "            inputs = tf.stack(\n",
    "                [inputs[:, :, self.column_indices[name]] for name in self.input_columns],\n",
    "                axis=-1)\n",
    "\n",
    "        # Slicing doesn't preserve static shape information, so set the shapes\n",
    "        # manually. This way the `tf.data.Datasets` are easier to inspect.\n",
    "        inputs.set_shape([None, self.input_width, None])\n",
    "        labels.set_shape([None, self.label_width, None])\n",
    "\n",
    "        return inputs, labels\n",
    "\n",
    "    def make_dataset(self, data):\n",
    "        data = np.array(data, dtype=np.float32)\n",
    "        ds = tf.keras.preprocessing.timeseries_dataset_from_array(\n",
    "            data=data,\n",
    "            targets=None,\n",
    "            sequence_length=self.total_window_size,\n",
    "            sequence_stride=1,\n",
    "            shuffle=True,\n",
    "            batch_size=16, )\n",
    "\n",
    "        ds = ds.map(self.split_window)\n",
    "\n",
    "        return ds\n",
    "    \n",
    "    # convert DataFrame into Dataset\n",
    "    @property\n",
    "    def train(self):\n",
    "        return self.make_dataset(self.train_df)\n",
    "\n",
    "    @property\n",
    "    def val(self):\n",
    "        return self.make_dataset(self.val_df)\n",
    "\n",
    "    @property\n",
    "    def test(self):\n",
    "        return self.make_dataset(self.test_df)\n",
    "\n",
    "    @property\n",
    "    # fetch an example batch for plotting\n",
    "    def example(self):\n",
    "        # by default, call example function returns None\n",
    "        result = getattr(self, '_example', None)\n",
    "        if result is None:\n",
    "            # no example batch was found, so get one from the '.train' dataset\n",
    "            # iter: creates an iterator object\n",
    "            result = next(iter(self.train))\n",
    "            # and cache it for the next time\n",
    "            self._example = result\n",
    "\n",
    "        return result\n",
    "\n",
    "    def plot(self, model=None, plot_col='Yaw_e', max_subplots=3):\n",
    "        inputs, labels = self.example\n",
    "        plt.figure(figsize=(12, 8))\n",
    "        # find the index of the column that the user wants to plot\n",
    "        plot_col_index = self.column_indices[plot_col]\n",
    "        # only plots maximal 3 batches of data\n",
    "        max_n = min(max_subplots, len(inputs))\n",
    "        for n in range(max_n):\n",
    "            plt.subplot(3, 1, n + 1)\n",
    "            plt.ylabel(f'{plot_col}[normed]')\n",
    "            plt.plot(self.input_indices, inputs[n, :, plot_col_index],\n",
    "                     label='Inputs', marker='.', zorder=-10)\n",
    "\n",
    "            if self.label_columns:\n",
    "                # get: method returns the value of the item (index) with the specified key (name)\n",
    "                # get(keyname, value=None)\n",
    "                label_col_index = self.label_columns_indices.get(plot_col, None)\n",
    "            else:\n",
    "                label_col_index = plot_col_index\n",
    "\n",
    "            if label_col_index is None:\n",
    "                # with the continue statement, we can stop the current iteration of the for loop\n",
    "                # and continue with the next\n",
    "                continue\n",
    "\n",
    "            plt.scatter(self.label_indices, labels[n, :, label_col_index], edgecolors='k',\n",
    "                        label='Labels', c='#2ca02c', s=64)\n",
    "            if model is not None:\n",
    "                predictions = model(inputs)\n",
    "                plt.scatter(self.label_indices, predictions[n, :, label_col_index],\n",
    "                            marker='X', edgecolors='k', label='Predictions',\n",
    "                            c='#ff7f0e', s=64)\n",
    "            if n == 0:\n",
    "                plt.legend()\n",
    "\n",
    "        plt.xlabel('Time[s]')\n",
    "        plt.show()\n"
   ]
  },
  {
   "cell_type": "code",
   "execution_count": 20,
   "metadata": {},
   "outputs": [],
   "source": [
    "MAX_EPOCHS = 20\n",
    "\n",
    "def compile_and_fit(model, window, patience=2):\n",
    "    early_stopping = tf.keras.callbacks.EarlyStopping(monitor='val_loss',\n",
    "                                                      patience=patience,\n",
    "                                                      mode='min')\n",
    "\n",
    "    model.compile(loss=tf.losses.MeanSquaredError(),\n",
    "                  optimizer=tf.optimizers.Adam(),\n",
    "                  metrics=[tf.metrics.MeanAbsoluteError()])\n",
    "\n",
    "    history = model.fit(window.train, epochs=MAX_EPOCHS,\n",
    "                        validation_data=window.val,\n",
    "                        callbacks=[early_stopping])\n",
    "    return history\n"
   ]
  },
  {
   "cell_type": "code",
   "execution_count": 21,
   "metadata": {},
   "outputs": [],
   "source": [
    "columns = df_moth_RW.columns\n",
    "label_columns = ['Cx', 'Cy']\n",
    "input_columns = list((Counter(columns) - Counter(label_columns)).elements())\n",
    "num_inputs = len(input_columns)"
   ]
  },
  {
   "cell_type": "code",
   "execution_count": 22,
   "metadata": {},
   "outputs": [],
   "source": [
    "filter_size = 64\n",
    "lstm_model = tf.keras.models.Sequential([\n",
    "        # Shape [batch, time, features] => [batch, time, lstm_units]\n",
    "        tf.keras.layers.LSTM(256, return_sequences=True),\n",
    "        tf.keras.layers.LSTM(256, return_sequences=True),\n",
    "        # tf.keras.layers.LSTM(64, return_sequences=True),\n",
    "        # Shape => [batch, time, features]\n",
    "        tf.keras.layers.Dense(units=filter_size, activation='relu'),\n",
    "        tf.keras.layers.Dense(units=filter_size, activation='relu'),\n",
    "        tf.keras.layers.Dense(units=2)\n",
    "    ])"
   ]
  },
  {
   "cell_type": "code",
   "execution_count": 23,
   "metadata": {},
   "outputs": [],
   "source": [
    "CONV_WIDTH = 6\n",
    "\n",
    "lstm_window = WindowGenerator(\n",
    "    input_width=CONV_WIDTH,\n",
    "    label_width=CONV_WIDTH,\n",
    "    shift=0,\n",
    "    train_df=train_df,\n",
    "    test_df=test_df,\n",
    "    val_df=val_df,\n",
    "    label_columns=label_columns,\n",
    "    input_columns=input_columns\n",
    ")"
   ]
  },
  {
   "cell_type": "code",
   "execution_count": 24,
   "metadata": {},
   "outputs": [
    {
     "name": "stdout",
     "output_type": "stream",
     "text": [
      "Epoch 1/20\n",
      "685/685 [==============================] - 23s 28ms/step - loss: 0.3200 - mean_absolute_error: 0.3268 - val_loss: 0.1424 - val_mean_absolute_error: 0.1937\n",
      "Epoch 2/20\n",
      "685/685 [==============================] - 19s 28ms/step - loss: 0.2324 - mean_absolute_error: 0.2408 - val_loss: 0.1195 - val_mean_absolute_error: 0.1602\n",
      "Epoch 3/20\n",
      "685/685 [==============================] - 20s 30ms/step - loss: 0.2158 - mean_absolute_error: 0.2246 - val_loss: 0.1115 - val_mean_absolute_error: 0.1563\n",
      "Epoch 4/20\n",
      "685/685 [==============================] - 20s 29ms/step - loss: 0.2030 - mean_absolute_error: 0.2099 - val_loss: 0.1113 - val_mean_absolute_error: 0.1566\n",
      "Epoch 5/20\n",
      "685/685 [==============================] - 20s 29ms/step - loss: 0.1948 - mean_absolute_error: 0.2026 - val_loss: 0.1173 - val_mean_absolute_error: 0.1742\n",
      "Epoch 6/20\n",
      "685/685 [==============================] - 20s 29ms/step - loss: 0.1881 - mean_absolute_error: 0.1950 - val_loss: 0.1048 - val_mean_absolute_error: 0.1446\n",
      "Epoch 7/20\n",
      "685/685 [==============================] - 20s 30ms/step - loss: 0.1836 - mean_absolute_error: 0.1891 - val_loss: 0.1065 - val_mean_absolute_error: 0.1299\n",
      "Epoch 8/20\n",
      "685/685 [==============================] - 21s 30ms/step - loss: 0.1799 - mean_absolute_error: 0.1868 - val_loss: 0.1111 - val_mean_absolute_error: 0.1386\n",
      "86/86 [==============================] - 1s 6ms/step - loss: 0.2046 - mean_absolute_error: 0.2084\n",
      "[0.20462365448474884, 0.20844775438308716] 0.413071408867836\n"
     ]
    }
   ],
   "source": [
    "history = compile_and_fit(lstm_model, lstm_window)\n",
    "\n",
    "val_performance = lstm_model.evaluate(lstm_window.test)\n",
    "print(val_performance, sum(val_performance))"
   ]
  },
  {
   "cell_type": "code",
   "execution_count": 26,
   "metadata": {},
   "outputs": [],
   "source": [
    "acc = history.history['mean_absolute_error']\n",
    "val_acc = history.history['val_mean_absolute_error']\n",
    "\n",
    "loss = history.history['loss']\n",
    "val_loss = history.history['val_loss']"
   ]
  },
  {
   "cell_type": "code",
   "execution_count": 40,
   "metadata": {},
   "outputs": [
    {
     "data": {
      "image/png": "[encoded data removed]",
      "text/plain": [
       "<Figure size 576x576 with 2 Axes>"
      ]
     },
     "metadata": {
      "needs_background": "light"
     },
     "output_type": "display_data"
    }
   ],
   "source": [
    "plt.figure(figsize=(8, 8))\n",
    "plt.subplot(2, 1, 1)\n",
    "plt.plot(acc, label='Training')\n",
    "plt.plot(val_acc, label='Validation')\n",
    "plt.legend(loc='upper right')\n",
    "plt.ylabel('Mean Absolute Error')\n",
    "plt.ylim([min(plt.ylim()),1])\n",
    "plt.title('Training and Validation metrics')\n",
    "\n",
    "\n",
    "plt.subplot(2, 1, 2)\n",
    "plt.plot(loss, label='Training Loss')\n",
    "plt.plot(val_loss, label='Validation Loss')\n",
    "plt.legend(loc='upper right')\n",
    "plt.ylabel('Mean Squared Error')\n",
    "plt.ylim([0,1.0])\n",
    "plt.title('Training and Validation Loss')\n",
    "plt.xlabel('epoch')\n",
    "plt.savefig(\"RW_moth_rnn.jpg\")\n",
    "plt.show()\n"
   ]
  },
  {
   "cell_type": "code",
   "execution_count": 35,
   "metadata": {},
   "outputs": [
    {
     "data": {
      "text/plain": [
       "<Figure size 432x288 with 0 Axes>"
      ]
     },
     "metadata": {},
     "output_type": "display_data"
    }
   ],
   "source": [
    "output = plt.figure\n",
    "\n",
    "plt.savefig(\"output.jpg\")"
   ]
  },
  {
   "cell_type": "code",
   "execution_count": 36,
   "metadata": {},
   "outputs": [
    {
     "data": {
      "image/png": "[encoded data removed]",
      "text/plain": [
       "<Figure size 432x288 with 1 Axes>"
      ]
     },
     "metadata": {
      "needs_background": "light"
     },
     "output_type": "display_data"
    }
   ],
   "source": [
    "import matplotlib.pyplot as plt\n",
    " \n",
    "# data for plotting\n",
    "x = [0, 1, 2, 3, 4, 5, 6, 7, 8, 9, 10, 11]\n",
    "y = [5, 7, 8, 1, 4, 9, 6, 3, 5, 2, 1, 8]\n",
    " \n",
    "plt.plot(x, y)\n",
    " \n",
    "plt.xlabel('x-axis label')\n",
    "plt.ylabel('y-axis label')\n",
    "plt.title('Matplotlib Example')\n",
    " \n",
    "plt.savefig(\"output.jpg\")"
   ]
  },
  {
   "cell_type": "code",
   "execution_count": null,
   "metadata": {},
   "outputs": [],
   "source": []
  }
 ],
 "metadata": {
  "kernelspec": {
   "display_name": "Python 3",
   "language": "python",
   "name": "python3"
  },
  "language_info": {
   "codemirror_mode": {
    "name": "ipython",
    "version": 3
   },
   "file_extension": ".py",
   "mimetype": "text/x-python",
   "name": "python",
   "nbconvert_exporter": "python",
   "pygments_lexer": "ipython3",
   "version": "3.8.5"
  }
 },
 "nbformat": 4,
 "nbformat_minor": 4
}
